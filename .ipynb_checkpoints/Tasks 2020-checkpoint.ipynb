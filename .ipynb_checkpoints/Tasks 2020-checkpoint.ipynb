{
 "cells": [
  {
   "cell_type": "markdown",
   "metadata": {},
   "source": [
    "# Machine Learning & Statistics Tasks 2020\n",
    "***"
   ]
  },
  {
   "cell_type": "markdown",
   "metadata": {},
   "source": [
    "### <b>Student</b>:    Maura Hurley<br> \n",
    "### <b>Lecturer</b>: Dr. Ian McLoughlin<br>\n",
    "***"
   ]
  },
  {
   "cell_type": "markdown",
   "metadata": {},
   "source": [
    "## Introduction\n",
    "\n",
    "#### These are my solutions to the Machine Learning & Statistics Tasks 2020. There are 4 tasks:\n",
    "1. Calculate the square root of 2 to 100 decimal places without using libraries\n",
    "2. Chi Square Test\n",
    "3. Standard deviation - STDDEV.P vs STDDEV.S\n",
    "4. Use scikit learn to apply k-means clustering to the Iris data set\n"
   ]
  },
  {
   "cell_type": "markdown",
   "metadata": {},
   "source": [
    "## 1.  Task Calculate the square root of 2"
   ]
  },
  {
   "cell_type": "markdown",
   "metadata": {},
   "source": [
    "#### Task Detail October 5th, 2020: \n",
    "Write a Python function called sqrt2 that calculates and prints to the screen the square root of 2 to 100 decimal places.  Your code should not depend on any module from the standard library or otherwise.  You should research the task first and include references and a description of your algorithm."
   ]
  },
  {
   "cell_type": "markdown",
   "metadata": {},
   "source": [
    "#### Task objectives:\n",
    "\n",
    "- Research the square root of 2\n",
    "- Investigate floating point numbers\n",
    "- Adopt an iterative approach\n",
    "- Python implementation"
   ]
  },
  {
   "attachments": {
    "sqrt2.jpg": {
     "image/jpeg": "[encoded data removed]"
    }
   },
   "cell_type": "markdown",
   "metadata": {},
   "source": [
    "## Research\n",
    "\n",
    "Wikipedia  [4] provides much detail regarding the square root of 2.  Some interesting points are as follows:\n",
    "\n",
    "- $\\sqrt {2}$, or one-half power of 2, $2^{1/2}$, is the positive algebraic number that when multiplied by itself, equals the number 2. \n",
    "- The square root of 2 is called the principal square root of 2, in order to distinguish it from the negative number with the same property.  \n",
    "- Geometrically, the square root of 2 is the length of a diagonal across a square with sides of one unit of length (this follows from the Pythagorean theorem). \n",
    " \n",
    "![sqrt2.jpg](attachment:sqrt2.jpg)\n",
    "\n",
    "- The fraction $99/70$ (≈ 1.4142857) is sometimes used as a good rational approximation with a reasonably small denominator.\n",
    "- It was probably the first number known to be irrational. The $\\sqrt {2}$ is an irrational number as it is not a perfect square and cannot be made into an exact fraction.  It cannot be simplified into a smaller radical or cannot be written as a fraction $a/b$ where $a$ and $b$ are whole numbers. The decimal form of an irrational number neither terminates nor repeats. [5]  \n",
    "\n",
    "<b>Proof is by contradiction - prove that the $\\sqrt {2}$ is a rational number:</b><br>\n",
    "\n",
    "$\\sqrt {2}$ written as a fraction $a/b$ with $a$ and $b$ with no common factor other than 1 is as follows:\n",
    "\n",
    "$\\sqrt {2}$ = $\\frac{a}{b}$\n",
    "\n",
    "Square both sides:\n",
    "\n",
    "2 = $\\frac{a^2}{b^2}$\n",
    "\n",
    "Multiplying both sides by $b^2$ gives\n",
    "\n",
    "$2b^2$ = $a^2$\n",
    "\n",
    "Therefore $a^2$ is an even number as is the product of an integer. If $a^2$ is an even number, then so is $a$ (the square of an odd number is odd and an even number even). This means that $a$ can be written as $2c$ for another whole number $c$ as follows:\n",
    "\n",
    "$2b^2 = a^2= (2c)^2 = 4c^2$\n",
    "    \n",
    "Divide by 2:\n",
    "\n",
    "$b^2 = 2c^2.$\n",
    "\n",
    "As $b^2$ is even, this means that $b$ is even. As both $a$ and $b$ are even, this contradicts the assumption that they contain no common factor: if they are both even, then they have a common factor of $2$. This contradiction implies that our original assumption, that $\\sqrt {2}$ can be written as a fraction $a/b$ must be false. Therefore, $\\sqrt {2}$ is irrational.\n",
    "\n",
    "One of the two unknown numbers is odd as the fraction cannot be reduced into a ratio of smaller numbers.[6] "
   ]
  },
  {
   "cell_type": "markdown",
   "metadata": {},
   "source": [
    "## Floating Point Numbers\n",
    "\n",
    "<b><i>\"Floating-point arithmetic is considered an esoteric subject by many people. This is rather surprising because floating-point is ubiquitous in computer systems\". </i></b>This quote by David Goldberg sets the tone.[7]  \n",
    "\n",
    "Python documentation outlines that binary floating point arithmetic calculations involving binary floating point numbers may not yield precise results. Floating-point calculations can have rounding errors and must often be rounded in order to fit back into its finite representation.  There are limitations to storing integers in a computer.  Floating point numbers are even more difficult to represent in computer memory.[8] \n",
    "\n",
    "#### Errors\n",
    "An infinite sequence cannot be stored in a computer. At some point, the computer has to end the number either by terminating at a point or rounding to the nearest floating point number. Decimal floating-point numbers are approximated by the binary floating-point numbers stored in the machine.  Due to limitations in computer memory, programs can encounter issues with roundoff, overflow, or precision of numeric variables.[9]\n",
    "\n",
    "Real numbers are stored in computers have a finite precision, specifically, floating point numbers can give up to 16 places of precision.\n",
    "\n",
    "Representing floating-point numbers on a computer comes with two kinds of limitations:\n",
    "1. The range of the exponent is limited, $Emin ≤ E ≤ Emax$,where $Emin$ is negative and $Emax$ is positive; both have large absolute values. Calculations leading to exponents $E > Emax$ are said to lead to overflow; calculations leading to exponents $E < Emin$ are said to have underflowed.\n",
    "2. The number of digits of the fraction F that can be represented by on and off switches on a computer is finite. This results in rounding error.[11]"
   ]
  },
  {
   "attachments": {
    "newton.jpg": {
     "image/jpeg": "[encoded data removed]"
    }
   },
   "cell_type": "markdown",
   "metadata": {},
   "source": [
    "## Iterative Approach\n",
    "\n",
    "The most common analytical methods are iterative and consist of two steps: finding a suitable starting value, followed by iterative refinement until some termination criteria is met. The starting value can be any number, but fewer iterations will be required the closer it is to the final result. The most familiar such method, most suited for programmatic calculation, is Newton's method, which is based on a property of the derivative in the calculus. [31]\n",
    "The Newton-Raphson method is a numerical method for calculation of a square root, with excellent convergence properties.\n",
    "[11]  Start with an initial guess and a very good approximation is derived after a number of iterations. \n",
    "\n",
    "\n",
    "To find out the square root of n, start with an approximation and compute a better approximation with the following formula:\n",
    "better =  1/2 * (approx + n/approx)\n",
    "\n",
    "\n",
    "![newton.jpg](attachment:newton.jpg)\n",
    "\n",
    "Newton’s algorithm will eventually reach a point where the new approximation is no better than the previous. By repeatedly applying this formula until the better approximation gets close enough to the previous one. "
   ]
  },
  {
   "cell_type": "markdown",
   "metadata": {},
   "source": [
    "### Implementation"
   ]
  },
  {
   "cell_type": "code",
   "execution_count": 1,
   "metadata": {},
   "outputs": [
    {
     "data": {
      "text/plain": [
       "Decimal('1.4142135623730950488016887242096980785696718753769480731766797379907324784621070388503875343276415727')"
      ]
     },
     "execution_count": 1,
     "metadata": {},
     "output_type": "execute_result"
    }
   ],
   "source": [
    "# NASA has calculated the square root with precision to a million decimal places [10].  \n",
    "# The result to the first 100 decimal places are as follows:\n",
    "\n",
    "# 1.4142135623730950488016887242096980785696718753769480731766797379907324784621070388503875343276415727\n",
    "# Verify the NASA result to python decimal. \n",
    "from decimal import *\n",
    "getcontext().prec = 101\n",
    "Decimal(2).sqrt()"
   ]
  },
  {
   "cell_type": "code",
   "execution_count": 2,
   "metadata": {},
   "outputs": [
    {
     "data": {
      "text/plain": [
       "1.4142135623730951"
      ]
     },
     "execution_count": 2,
     "metadata": {},
     "output_type": "execute_result"
    }
   ],
   "source": [
    "# Task is try to emulate the Nasa and python decimal result without using libraries.\n",
    "# Verify default behaviour.\n",
    "2**(1/2)"
   ]
  },
  {
   "cell_type": "markdown",
   "metadata": {},
   "source": [
    "The Python default is to calculate the square root of 2 to 16 decimal places. As noted above real numbers are stored in computers have a finite precision, specifically, floating point numbers can give up to 16 places of precision.  \n",
    "\n",
    "Python has rounded the last digit.  Floating point numbers greater than 12 digits are truncated i.e. any following numbers are not accurate.\n",
    "\n",
    "NASA:   1.4142135623730950\n",
    "Python: 1.4142135623730951"
   ]
  },
  {
   "cell_type": "code",
   "execution_count": 3,
   "metadata": {},
   "outputs": [
    {
     "data": {
      "text/plain": [
       "'1.4142135623730951454746218587388284504413604736328125000000000000000000000000000000000000000000000000'"
      ]
     },
     "execution_count": 3,
     "metadata": {},
     "output_type": "execute_result"
    }
   ],
   "source": [
    "# Python has generated the square root to 16 decimal places by defualt.  \n",
    "# Format as string and check what that generates.\n",
    "x = 2**(1/2)\n",
    "# Format to 100 decimal places.\n",
    "format((x), ',.100f')"
   ]
  },
  {
   "cell_type": "markdown",
   "metadata": {},
   "source": [
    "#### Review results \n",
    " - Floating point number has terminated at a point and rounded to the nearest floating point number after approx 52 decimal places.\n",
    " - Precision is an issue - after the 15th decimal, accuracy of the computer generated result above is called into question when compared to the Nasa calculation.\n",
    " \n",
    "One way of getting around the issue with floating point numbers is to gross the square and calculate the square root of an integer.  This is done by multiplying 2 by 100 ** 100 and calculating the square root."
   ]
  },
  {
   "cell_type": "code",
   "execution_count": 4,
   "metadata": {},
   "outputs": [
    {
     "name": "stdout",
     "output_type": "stream",
     "text": [
      "1.414213562373095e+100\n"
     ]
    }
   ],
   "source": [
    "y = 2*100**100\n",
    "z = y**(1/2)\n",
    "print(z)"
   ]
  },
  {
   "cell_type": "markdown",
   "metadata": {},
   "source": [
    "This has resulted in an exponent.  However, this exponent can be converted to a float by formatting as string.   "
   ]
  },
  {
   "cell_type": "code",
   "execution_count": 5,
   "metadata": {},
   "outputs": [
    {
     "data": {
      "text/plain": [
       "'1.4142135623730949234300169337075203657150268554687500000000000000000000000000000000000000000000000000'"
      ]
     },
     "execution_count": 5,
     "metadata": {},
     "output_type": "execute_result"
    }
   ],
   "source": [
    "y = 2*100**100\n",
    "z = y**(1/2)\n",
    "result = z /(10**100)\n",
    "format((result), ',.100f')"
   ]
  },
  {
   "cell_type": "markdown",
   "metadata": {},
   "source": [
    "#### Review results\n",
    "The same issues are experienced.  The floating point number has again terminated at a point and rounded to the nearest floating point number after approx 52 decimal places.\n",
    "Precision is an issue - after the 15th decimal, accuracy of the computer generated result above is called into question when compared to the Nasa calculation.  \n",
    "\n",
    "The result requires further manipulation using an iterative approach such as Newton's method.\n",
    "\n",
    "To calculate the square root of 2 to 100 decimal places with precision, integers have to be used. It is not possible on floating point numbers.  The plan to achieve precision will have to involve workarounds as follows:\n",
    "- Gross up 2 so the square root is generated using integers\n",
    "- Iteratively work out the integer square root using Newton's methodology\n",
    "- Convert to a string and add the decimal point at the correct location"
   ]
  },
  {
   "cell_type": "code",
   "execution_count": 6,
   "metadata": {},
   "outputs": [
    {
     "name": "stdout",
     "output_type": "stream",
     "text": [
      "1.4142135623730950488016887242096980785696718753769480731766797379907324784621070388503875343276415727\n"
     ]
    }
   ],
   "source": [
    "# Adapted from https://stackoverflow.com/questions/5187664/generating-digits-of-square-root-of-2.\n",
    "# Square root of a with precision to a certain amount of decimal places.\n",
    "def sqrt2(a, prec):\n",
    "# Gross a up\n",
    "    a = a* (10**(2*prec))\n",
    "    prev = 0\n",
    "    next = 1 * (10**prec)\n",
    "# Get better approximation while next and prev are not equal\n",
    "    while prev != next:\n",
    "        prev = next\n",
    "        next = (prev + (a // prev)) >> 1\n",
    "    return next\n",
    "# Square root of 2 to 100 places\n",
    "sq = sqrt2(2,100)\n",
    "# Format before decimal and then after decimal\n",
    "print(f'{sq // 10**100}.{sq % 10**100:0100d}')"
   ]
  },
  {
   "cell_type": "markdown",
   "metadata": {},
   "source": [
    "### Conclusion\n",
    "It is not possible to calculate the square root of 2 without libraries without precision issues.  Floating-point calculations can have rounding errors and must often be rounded in order to fit back into its finite representation. There are limitations to storing integers in a computer. Floating point numbers are even more difficult to represent in computer memory.\n",
    "Real numbers stored in computers have a finite precision, specifically, floating point numbers can give up to 16 places of precision.  Floating point number has terminated at a point and rounded to the nearest floating point number.\n",
    "\n",
    "The number can be calculated without libraries with precision however manipulation is required - 2 requires grossing up and iterative calculations undertaken with the result presented in string format."
   ]
  },
  {
   "cell_type": "markdown",
   "metadata": {},
   "source": [
    "***"
   ]
  },
  {
   "cell_type": "markdown",
   "metadata": {},
   "source": [
    "## 2. The Chi-squared test"
   ]
  },
  {
   "cell_type": "markdown",
   "metadata": {},
   "source": [
    "### Task Detail November 2nd, 2020: \n",
    "The  Chi-squared  test  for  independence  is  a  statistical hypothesis test like a t-test.  It is used to analyse whether two categorical variables are independent.  The Wikipedia article gives an example stating the Chi-squared value based on it is approximately 24.6. Use scipy.stats to verify this value and calculate the associated p value.  You should include a short note with references justifying your analysis in a markdown cell."
   ]
  },
  {
   "cell_type": "markdown",
   "metadata": {},
   "source": [
    "#### Task objectives:\n",
    "\n",
    "- Research the Chi-squared test\n",
    "- Use Scipy.stats to verify the dataset\n",
    "- Analyse the result"
   ]
  },
  {
   "cell_type": "markdown",
   "metadata": {},
   "source": [
    "### Research\n",
    "\n",
    "Pearson’s chi-squared statistical hypothesis is a test for independence between categorical variables.  It is appropriate when working with categorical data.  It establishes if  there a pattern to the observed frequencies or if they are they purely by chance.  Chi square assumes that the data is random, categories are mutually exclusive, the data is in the form of frequency or counts and that observations are independent[13].\n",
    "\n",
    "##### Chi-Square Goodness-of-fit Test:\n",
    "- This tests from a sample of categorical data the fit to a theoretical distribution i.e. how the observed values match the expected values.  \n",
    "\n",
    "#### Chi-square tests of association and independence\n",
    "\n",
    "- Test of association: determine whether one variable is associated with a different variable. \n",
    "- Test of independence: determine whether the observed value of one variable depends on the observed value of a different variable. \n",
    "\n",
    "\\begin{aligned}&\\chi^2_c = \\sum \\frac{(O_i - E_i)^2}{E_i} \\\\&\\textbf{where:}\\\\&c=\\text{Degrees of freedom}\\\\&O=\\text{Observed value(s)}\\\\&E=\\text{Expected value(s)}\\end{aligned}​\n",
    "\n",
    "\n",
    "Wikipedia provides much detail regarding the Chi-square statistic.  It is a measure of divergence between the data distribution and an expected or hypothesized distribution. \n",
    "- If the p-value associated this chi-square statistic is less than the selected alpha, the test rejects the null hypothesis that the two variables are independent.\n",
    "   \n",
    "- Determine whether a statistical model fits the data adequately. If the p-value associated with the chi-square statistic is less than the selected alpha, the test rejects the null hypothesis.\n",
    "\n",
    "For categorical data, report each category's contribution to the chi-square value, which quantifies how much of the total chi-square value is attributable to each category's divergence.  Does the the divergence in the data comes from certain categories? [12]  \n",
    "\n",
    "The numbers within the categories differ but is this random or is there a connection?  The Chi Square \"p\" value will aid this determination."
   ]
  },
  {
   "cell_type": "markdown",
   "metadata": {},
   "source": [
    "#### About the dataset\n",
    "- A random sample of 650 residents of a city of 1,000,000 residents is taken with four neighborhoods: A, B, C, and D. \n",
    "- Their occupation is recorded as \"white collar\", \"blue collar\", or \"no collar\". \n",
    "- The null hypothesis is that each person's neighborhood of residence is independent of the person's occupational classification. \n",
    "- The data is tabulated into a contingency table (summary of 2 categorical variables) with the intent of determining whether one variable is dependent on the other variable. The null hypothesis (H0) states that there is no relation between the variables.  Below table generates observed data:"
   ]
  },
  {
   "cell_type": "code",
   "execution_count": 7,
   "metadata": {},
   "outputs": [
    {
     "name": "stdout",
     "output_type": "stream",
     "text": [
      "Contingency Table:\n"
     ]
    },
    {
     "data": {
      "text/html": [
       "<style  type=\"text/css\" >\n",
       "    #T_312875b2_4ab2_11eb_8241_50eb71c3f2d9 th {\n",
       "          text-align: left;\n",
       "    }#T_312875b2_4ab2_11eb_8241_50eb71c3f2d9row0_col0,#T_312875b2_4ab2_11eb_8241_50eb71c3f2d9row0_col1,#T_312875b2_4ab2_11eb_8241_50eb71c3f2d9row0_col2,#T_312875b2_4ab2_11eb_8241_50eb71c3f2d9row0_col3,#T_312875b2_4ab2_11eb_8241_50eb71c3f2d9row0_col4,#T_312875b2_4ab2_11eb_8241_50eb71c3f2d9row1_col0,#T_312875b2_4ab2_11eb_8241_50eb71c3f2d9row1_col1,#T_312875b2_4ab2_11eb_8241_50eb71c3f2d9row1_col2,#T_312875b2_4ab2_11eb_8241_50eb71c3f2d9row1_col3,#T_312875b2_4ab2_11eb_8241_50eb71c3f2d9row1_col4,#T_312875b2_4ab2_11eb_8241_50eb71c3f2d9row2_col0,#T_312875b2_4ab2_11eb_8241_50eb71c3f2d9row2_col1,#T_312875b2_4ab2_11eb_8241_50eb71c3f2d9row2_col2,#T_312875b2_4ab2_11eb_8241_50eb71c3f2d9row2_col3,#T_312875b2_4ab2_11eb_8241_50eb71c3f2d9row2_col4,#T_312875b2_4ab2_11eb_8241_50eb71c3f2d9row3_col0,#T_312875b2_4ab2_11eb_8241_50eb71c3f2d9row3_col1,#T_312875b2_4ab2_11eb_8241_50eb71c3f2d9row3_col2,#T_312875b2_4ab2_11eb_8241_50eb71c3f2d9row3_col3,#T_312875b2_4ab2_11eb_8241_50eb71c3f2d9row3_col4{\n",
       "            text-align:  left;\n",
       "        }</style><table id=\"T_312875b2_4ab2_11eb_8241_50eb71c3f2d9\" ><thead>    <tr>        <th class=\"blank level0\" ></th>        <th class=\"col_heading level0 col0\" >A</th>        <th class=\"col_heading level0 col1\" >B</th>        <th class=\"col_heading level0 col2\" >C</th>        <th class=\"col_heading level0 col3\" >D</th>        <th class=\"col_heading level0 col4\" >Total</th>    </tr></thead><tbody>\n",
       "                <tr>\n",
       "                        <th id=\"T_312875b2_4ab2_11eb_8241_50eb71c3f2d9level0_row0\" class=\"row_heading level0 row0\" >White Collar</th>\n",
       "                        <td id=\"T_312875b2_4ab2_11eb_8241_50eb71c3f2d9row0_col0\" class=\"data row0 col0\" >90</td>\n",
       "                        <td id=\"T_312875b2_4ab2_11eb_8241_50eb71c3f2d9row0_col1\" class=\"data row0 col1\" >60</td>\n",
       "                        <td id=\"T_312875b2_4ab2_11eb_8241_50eb71c3f2d9row0_col2\" class=\"data row0 col2\" >104</td>\n",
       "                        <td id=\"T_312875b2_4ab2_11eb_8241_50eb71c3f2d9row0_col3\" class=\"data row0 col3\" >95</td>\n",
       "                        <td id=\"T_312875b2_4ab2_11eb_8241_50eb71c3f2d9row0_col4\" class=\"data row0 col4\" >349</td>\n",
       "            </tr>\n",
       "            <tr>\n",
       "                        <th id=\"T_312875b2_4ab2_11eb_8241_50eb71c3f2d9level0_row1\" class=\"row_heading level0 row1\" >Blue Collar</th>\n",
       "                        <td id=\"T_312875b2_4ab2_11eb_8241_50eb71c3f2d9row1_col0\" class=\"data row1 col0\" >30</td>\n",
       "                        <td id=\"T_312875b2_4ab2_11eb_8241_50eb71c3f2d9row1_col1\" class=\"data row1 col1\" >50</td>\n",
       "                        <td id=\"T_312875b2_4ab2_11eb_8241_50eb71c3f2d9row1_col2\" class=\"data row1 col2\" >51</td>\n",
       "                        <td id=\"T_312875b2_4ab2_11eb_8241_50eb71c3f2d9row1_col3\" class=\"data row1 col3\" >20</td>\n",
       "                        <td id=\"T_312875b2_4ab2_11eb_8241_50eb71c3f2d9row1_col4\" class=\"data row1 col4\" >151</td>\n",
       "            </tr>\n",
       "            <tr>\n",
       "                        <th id=\"T_312875b2_4ab2_11eb_8241_50eb71c3f2d9level0_row2\" class=\"row_heading level0 row2\" >No Collar</th>\n",
       "                        <td id=\"T_312875b2_4ab2_11eb_8241_50eb71c3f2d9row2_col0\" class=\"data row2 col0\" >30</td>\n",
       "                        <td id=\"T_312875b2_4ab2_11eb_8241_50eb71c3f2d9row2_col1\" class=\"data row2 col1\" >40</td>\n",
       "                        <td id=\"T_312875b2_4ab2_11eb_8241_50eb71c3f2d9row2_col2\" class=\"data row2 col2\" >45</td>\n",
       "                        <td id=\"T_312875b2_4ab2_11eb_8241_50eb71c3f2d9row2_col3\" class=\"data row2 col3\" >35</td>\n",
       "                        <td id=\"T_312875b2_4ab2_11eb_8241_50eb71c3f2d9row2_col4\" class=\"data row2 col4\" >150</td>\n",
       "            </tr>\n",
       "            <tr>\n",
       "                        <th id=\"T_312875b2_4ab2_11eb_8241_50eb71c3f2d9level0_row3\" class=\"row_heading level0 row3\" >Total</th>\n",
       "                        <td id=\"T_312875b2_4ab2_11eb_8241_50eb71c3f2d9row3_col0\" class=\"data row3 col0\" >150</td>\n",
       "                        <td id=\"T_312875b2_4ab2_11eb_8241_50eb71c3f2d9row3_col1\" class=\"data row3 col1\" >150</td>\n",
       "                        <td id=\"T_312875b2_4ab2_11eb_8241_50eb71c3f2d9row3_col2\" class=\"data row3 col2\" >200</td>\n",
       "                        <td id=\"T_312875b2_4ab2_11eb_8241_50eb71c3f2d9row3_col3\" class=\"data row3 col3\" >150</td>\n",
       "                        <td id=\"T_312875b2_4ab2_11eb_8241_50eb71c3f2d9row3_col4\" class=\"data row3 col4\" >650</td>\n",
       "            </tr>\n",
       "    </tbody></table>"
      ],
      "text/plain": [
       "<pandas.io.formats.style.Styler at 0x1cd629a2ac0>"
      ]
     },
     "execution_count": 7,
     "metadata": {},
     "output_type": "execute_result"
    }
   ],
   "source": [
    "import pandas as pd\n",
    "print(\"Contingency Table:\")\n",
    "# input data\n",
    "data = [90, 60, 104, 95],[30, 50,  51, 20], [30, 40,  45, 35]\n",
    "# create dataframe\n",
    "df = pd.DataFrame(data, columns=[\"A\", \"B\", \"C\", \"D\"], index =[\"White Collar\",\"Blue Collar\", \"No Collar\"])\n",
    "df.loc['Total']= df.sum(numeric_only=True, axis=0)\n",
    "df.loc[:,'Total'] = df.sum(numeric_only=True, axis=1)\n",
    "# Style the dataframe\n",
    "dfStyler = df.style.set_properties(**{'text-align': 'left'})\n",
    "dfStyler.set_table_styles([dict(selector='th', props=[('text-align', 'left')])])"
   ]
  },
  {
   "cell_type": "markdown",
   "metadata": {},
   "source": [
    "#### Expected value is calculated as follows:\n",
    "\n",
    "- Subtract each expected frequency from the related observed frequency.\n",
    "- Square each value obtained above\n",
    "- Divide all the values obtained in step 2 by the related expected frequencies i.e. (O-E)2/E.\n",
    "- Add all the values obtained above to get the chi-square value.\n",
    "- Compare with the critical chi-square value. We can find this in the below chi-square table against the degrees of freedom (number of categories – 1) and the level of significance:\n"
   ]
  },
  {
   "cell_type": "code",
   "execution_count": 8,
   "metadata": {},
   "outputs": [
    {
     "name": "stdout",
     "output_type": "stream",
     "text": [
      "Expected Frequencies:\n"
     ]
    },
    {
     "data": {
      "text/html": [
       "<div>\n",
       "<style scoped>\n",
       "    .dataframe tbody tr th:only-of-type {\n",
       "        vertical-align: middle;\n",
       "    }\n",
       "\n",
       "    .dataframe tbody tr th {\n",
       "        vertical-align: top;\n",
       "    }\n",
       "\n",
       "    .dataframe thead th {\n",
       "        text-align: right;\n",
       "    }\n",
       "</style>\n",
       "<table border=\"1\" class=\"dataframe\">\n",
       "  <thead>\n",
       "    <tr style=\"text-align: right;\">\n",
       "      <th></th>\n",
       "      <th>A</th>\n",
       "      <th>B</th>\n",
       "      <th>C</th>\n",
       "      <th>D</th>\n",
       "      <th>Total</th>\n",
       "    </tr>\n",
       "  </thead>\n",
       "  <tbody>\n",
       "    <tr>\n",
       "      <th>White Collar</th>\n",
       "      <td>80.5385</td>\n",
       "      <td>80.5385</td>\n",
       "      <td>107.3846</td>\n",
       "      <td>80.5385</td>\n",
       "      <td>349.0</td>\n",
       "    </tr>\n",
       "    <tr>\n",
       "      <th>Blue Collar</th>\n",
       "      <td>34.8462</td>\n",
       "      <td>34.8462</td>\n",
       "      <td>46.4615</td>\n",
       "      <td>34.8462</td>\n",
       "      <td>151.0</td>\n",
       "    </tr>\n",
       "    <tr>\n",
       "      <th>No Collar</th>\n",
       "      <td>34.6154</td>\n",
       "      <td>34.6154</td>\n",
       "      <td>46.1538</td>\n",
       "      <td>34.6154</td>\n",
       "      <td>150.0</td>\n",
       "    </tr>\n",
       "    <tr>\n",
       "      <th>Total</th>\n",
       "      <td>150.0000</td>\n",
       "      <td>150.0000</td>\n",
       "      <td>200.0000</td>\n",
       "      <td>150.0000</td>\n",
       "      <td>650.0</td>\n",
       "    </tr>\n",
       "  </tbody>\n",
       "</table>\n",
       "</div>"
      ],
      "text/plain": [
       "                     A         B         C         D  Total\n",
       "White Collar   80.5385   80.5385  107.3846   80.5385  349.0\n",
       "Blue Collar    34.8462   34.8462   46.4615   34.8462  151.0\n",
       "No Collar      34.6154   34.6154   46.1538   34.6154  150.0\n",
       "Total         150.0000  150.0000  200.0000  150.0000  650.0"
      ]
     },
     "execution_count": 8,
     "metadata": {},
     "output_type": "execute_result"
    }
   ],
   "source": [
    "# Adapted from https://stackoverflow.com/questions/64669448/understanding-scipy-stats-chisquare.\n",
    "\n",
    "from scipy.stats import chi2_contingency\n",
    "# copy expected table as table\n",
    "table = data\n",
    "# calculate expected frequencies\n",
    "chi2, p, dof, expected = chi2_contingency(table)\n",
    "print(\"Expected Frequencies:\")\n",
    "df = pd.DataFrame(expected, columns=[\"A\", \"B\", \"C\", \"D\"], index =[\"White Collar\",\"Blue Collar\", \"No Collar\"])\n",
    "df.loc['Total']= df.sum(numeric_only=True, axis=0)\n",
    "df.loc[:,'Total'] = df.sum(numeric_only=True, axis=1)\n",
    "dfStyler = df.style.set_properties(**{'text-align': 'left'})\n",
    "dfStyler.set_table_styles([dict(selector='th', props=[('text-align', 'left')])])\n",
    "\n",
    "df.round(4)"
   ]
  },
  {
   "cell_type": "markdown",
   "metadata": {},
   "source": [
    "### Verify the hypothesis\n",
    "\n",
    "A hypothesis test is stated in terms of Null and Alternative hypotheses.  The burden of proof is always on the alternative hypothesis i.e proving that there is a link between occupation and neighbourhood.\n",
    "\n",
    "The hypothesis can be verified as follows:\n",
    "\n",
    "- Using p-value:\n",
    "P value determines significance or independence.  The lower the p-value, the more likely the alternate hypothesis is true.\n",
    "P value indicates whether an observation is as a result of a change or random. In order to accept a test result the p-value should be low. The generally accepted p-value is  under 0.05. This cut-off value is called the alpha, and results below this threshold are considered to be statistically significant. If a result has a p-value of 0.05 or lower we can say that we are 95% confident that there is a connection between occupation and neighbourhood as opposed to differences due to random variations. And as a result, there are reasonable grounds to support the alternate hypothesis and reject the null hypothesis.\n",
    "\n",
    "- Using chi-square value:\n",
    "The chi-square statistic compares the size of discrepancies between the expected and actual results for the given sample and variables (occupation and neighbourhood). Degrees of freedom are used to determine if the null hypothesis can be rejected based on the samples and variables. The larger the sample size, the more reliable the result.\n",
    "\n",
    "If the calculated value of chi-square is less or equal to the critical value of chi-square, then the null hypothesis holds true.   "
   ]
  },
  {
   "cell_type": "code",
   "execution_count": 9,
   "metadata": {},
   "outputs": [
    {
     "name": "stdout",
     "output_type": "stream",
     "text": [
      "dof=6\n",
      "probability=0.950, critical=12.592, stat=24.571\n",
      "Dependent (reject H0)\n",
      "significance=0.050, p=0.0004098\n",
      "Dependent (reject H0)\n"
     ]
    }
   ],
   "source": [
    "# Adapted from https://machinelearningmastery.com/chi-squared-test-for-machine-learning/.\n",
    "# Chi-squared test with similar proportions.\n",
    "from scipy.stats import chi2_contingency\n",
    "from scipy.stats import chi2\n",
    "# contingency table\n",
    "table =data\n",
    "stat, p, dof, expected = chi2_contingency(table)\n",
    "print('dof=%d' % dof)\n",
    "# Print(expected).\n",
    "# Interpret test-statistic.\n",
    "prob = 0.95\n",
    "critical = chi2.ppf(prob, dof)\n",
    "print('probability=%.3f, critical=%.3f, stat=%.3f' % (prob, critical, stat))\n",
    "if abs(stat) >= critical:\n",
    "\tprint('Dependent (reject H0)')\n",
    "else:\n",
    "\tprint('Independent (fail to reject H0)')\n",
    "# interpret p-value\n",
    "alpha = 1.0 - prob\n",
    "print('significance=%.3f, p=%.7f' % (alpha, p))\n",
    "if p <= alpha:\n",
    "\tprint('Dependent (reject H0)')\n",
    "else:\n",
    "\tprint('Independent (fail to reject H0)')"
   ]
  },
  {
   "cell_type": "markdown",
   "metadata": {},
   "source": [
    "###  Analyse the Results\n",
    "\n",
    "**Chi Square Value**<br>\n",
    "A Chi-square value greater than or equal to the critical value indicates there is a significant difference between actual and expected data that is too large to be random.  The critical value is calculated as 12.592 with 6 degrees of freedom. This indicates that the null hypothesis should be rejected as the chi squared value of 24.571 is less than the critical value of 12.592.\n",
    "\n",
    "- Formula for degrees of freedom is as follows:\n",
    " - (rows -1 ) * (columns - 1)\n",
    " -  (4-1) * (3-1) = 6.\n",
    "\n",
    "**P value**<br> \n",
    "The p value of 0.0004098 is lower than the assumed alpha of 0.05.  This means that the null hypothesis that each person's neighborhood is independent of occupation can be rejected as the p-value is below the threshold.\n",
    "\n",
    " \n",
    "**Sample size**<br>\n",
    "Does the the divergence in the data comes from certain categories?  The sample size is small - 650 residents of a city of 1,000,000 residents - 0.65%.   These samples may be atypical and further sampling may yield different results.  However the data does not support the hypothesis and further sampling may be advisable."
   ]
  },
  {
   "cell_type": "markdown",
   "metadata": {},
   "source": [
    "### Conclusion\n",
    "\n",
    "24.571 is the chi square value calculated from scipy.stats which corroborates the Wikipedia value.\n",
    "The threshold (alpha) is 0.05 compared with  0.0004098.  The critical value is calculated as 12.592 with 6 degrees of freedom. The null hypothesis is not supported as the chi squared value is less than the critical value. These results indicate a relationship between neighbourhood and occupation.\n",
    "\n",
    "Although the data does not support the hypothesis, the samples sizes are relatively small given the population and further sampling is recommended.  "
   ]
  },
  {
   "cell_type": "markdown",
   "metadata": {},
   "source": [
    "***"
   ]
  },
  {
   "cell_type": "markdown",
   "metadata": {},
   "source": [
    "## 3. Standard Deviation - Numpy & Excel"
   ]
  },
  {
   "cell_type": "markdown",
   "metadata": {},
   "source": [
    "#### Task Detail November 16th, 2020:  \n",
    "The  standard  deviation  of  an  array  of  numbers x is calculated using numpy as np.sqrt(np.sum((x - np.mean(x))**2)/len(x)).  However,  Microsoft  Excel  has  two  different  versions  of  the  standard  deviation calculation, STDEV.P and STDEV.S.  The STDEV.P function performs the above calculation but in the STDEV.S calculation the division is by len(x)-1 rather than len(x).  Research these Excel functions, writing a note in a Markdown cell about  the  difference  between  them.   Then  use numpy to  perform  a  simulation demonstrating that the STDEV.S calculation is a better estimate for the standard deviation of a population when performed on a sample.  Note that part of this task is to figure out the terminology in the previous sentence."
   ]
  },
  {
   "cell_type": "markdown",
   "metadata": {},
   "source": [
    "#### Task objectives:\n",
    "\n",
    "- Research STDEV.P and STDEV.S\n",
    "- STDEV.P and STDEV.S differences\n",
    "- Simulate using Numpy demonstrating STDEV.S is the better option for a population when performed on a sample\n",
    "- Analyse the result"
   ]
  },
  {
   "attachments": {
    "stdev.p.jpg": {
     "image/jpeg": "[encoded data removed]"
    },
    "stdev.s.jpg": {
     "image/jpeg": "[encoded data removed]"
    }
   },
   "cell_type": "markdown",
   "metadata": {},
   "source": [
    "### Research STDEV.P and STDEV.S \n",
    "\n",
    "The standard deviation (for a sample or population) is an indicator of how close data points are relative to the mean. A small standard deviation indicates that the data is close to the mean, a larger standard deviation indicates that data is more dispersed. The standard deviation for a given data set is calculated as follows:\n",
    "\n",
    "- find the average value of the data set\n",
    "- calculate the difference between each element in the set and the average value\n",
    "- square the result of each difference\n",
    "- average the squared differences\n",
    "- calculate the square root of the average squared difference\n",
    "\n",
    "\n",
    "#### STDDEV.P\n",
    "\n",
    "Microsoft documentation explains the STDEV.P function.  The standard deviation of the population is evaluated when there is minimal risk to apply the result on aggregate data. The sum of squared deviation is divided by N (number of arguments).It calculates the standard deviation based on the entire population given as arguments. The excel formula is as follows:\n",
    "\n",
    "STDEVP(number1,[number2],...).  \n",
    "\n",
    "- Number1 is required - it is the first number argument corresponding to a population.\n",
    "- Number2 is optional - arguments 2 to 255 corresponding to a population. You can also use a single array or a reference to an array instead of arguments separated by commas.\n",
    "\n",
    "STDEV.P uses the following formula:\n",
    "\n",
    "![stdev.p.jpg](attachment:stdev.p.jpg)\n",
    "\n",
    " where x is the sample mean average(number1,number2,…) and n is the sample size.\n",
    "\n",
    "##### Assumptions:\n",
    "\n",
    "- STDEV.P assumes that its arguments are the entire population.\n",
    "- The standard deviation is calculated using the \"n\" method or biased estimator.\n",
    "- Arguments can either be numbers or names, arrays, or references that contain numbers.\n",
    "- Logical values, and text representations of numbers that you type directly into the list of arguments are counted.\n",
    "- If an argument is an array or reference, only numbers in that array or reference are counted. Empty cells, logical values, text, or error values in the array or reference are ignored.\n",
    "- Arguments that are error values or text that cannot be translated into numbers cause errors.\n",
    "  [19]\n",
    " \n",
    "#### STDEV.S\n",
    "Micosoft Excel's  STDEV.S function is used to calculate the standard deviation of a sample. This is also called unbiased analysis.  It estimates standard deviation based on a sample (ignores logical values and text in the sample).\n",
    "\n",
    "The excel formula is as follows:\n",
    "\n",
    "STDEV.S(number1,[number2],...)\n",
    "\n",
    "The STDEV.S function syntax has the following arguments:\n",
    "\n",
    "- Number1 (required) - the first number argument corresponding to a sample of a population. You can also use a single array or a reference to an array instead of arguments separated by commas.\n",
    "- Number2 (optional) - number arguments 2 to 254 corresponding to a sample of a population. You can also use a single array or a reference to an array instead of arguments separated by commas.\n",
    "\n",
    "STDEV.S uses the following formula:\n",
    "\n",
    "![stdev.s.jpg](attachment:stdev.s.jpg)\n",
    "\n",
    "where x is the sample mean AVERAGE(number1,number2,…) and n is the sample size. \n",
    "\n",
    "##### Assumptions\n",
    "\n",
    "- STDEV.S assumes that its arguments are a sample of the population.\n",
    "- The standard deviation is calculated using the \"n-1\" method.\n",
    "- Arguments can either be numbers or names, arrays, or references that contain numbers.\n",
    "- Logical values and text representations of numbers that you type directly into the list of arguments are counted.\n",
    "- If an argument is an array or reference, only numbers in that array or reference are counted. Empty cells, logical values, text, or error values in the array or reference are ignored.\n",
    " [20]"
   ]
  },
  {
   "cell_type": "markdown",
   "metadata": {},
   "source": [
    "### Differences between STDDEV.P & STDDEV.S\n",
    "\n",
    "\n",
    "<b>Calculating standard deviation of a sample versus that of a population</b><br>\n",
    "\n",
    "In statistics, Bessel's correction is the use of n − 1 instead of n in the formula for the sample variance and sample standard deviation, where n is the number of observations in a sample. This method corrects the bias in the estimation of the population variance. It also partially corrects the bias in the estimation of the population standard deviation. However, the correction often increases the mean squared error in these estimations. [30]\n",
    "\n",
    "\n",
    "With statistical data, population datasets need to be differentiated from sample datasets.  Population data sets contain all members therefore  STDEV. P calculates the standard deviation for the entire population.  It is divided by n and gives a biased estimate of population variance.\n",
    "\n",
    "\n",
    "STDDEV.S is a statistical function that calculates the standard deviation based on a sample that constitutes a part or subset of the population. It uses the n-1 method. It is unbiased meaning that each member of the population has an equal chance of being selected.   If the sample is unbiased, the sample mean should be a reasonable estimate of the population mean.\n",
    "\n",
    "<b>Why divide by n−1 instead of n? </b>\n",
    "\n",
    "A statistic is a calculated estimate based on a population. If the sample of the population is biased, the statistics will also be biased estimates of the population.\n",
    "\n",
    "As the sample size increases, the reliability of the statistic increases. \n",
    "\n",
    "The term n-1 is called the degrees of freedom, meaning \"number of independent variables - number of parameters estimated\". If the entire population is sampled, the mean is not estimated. [32]"
   ]
  },
  {
   "cell_type": "markdown",
   "metadata": {},
   "source": [
    "### Use Numpy to demonstrate that STDEV.S is better than STDEV.P when performed on a sample"
   ]
  },
  {
   "cell_type": "code",
   "execution_count": 10,
   "metadata": {},
   "outputs": [],
   "source": [
    "import matplotlib.pyplot as plt\n",
    "import seaborn as sns\n",
    "import numpy as np\n",
    "import pandas as pd\n",
    "%matplotlib inline\n",
    "\n",
    "# Check range of values 0 - 9 and test biased versus unbiased.\n",
    "x = np.arange(0,10)"
   ]
  },
  {
   "cell_type": "code",
   "execution_count": 11,
   "metadata": {},
   "outputs": [
    {
     "data": {
      "text/plain": [
       "4.5"
      ]
     },
     "execution_count": 11,
     "metadata": {},
     "output_type": "execute_result"
    }
   ],
   "source": [
    "# Calculate the mean\n",
    "np.mean(x)"
   ]
  },
  {
   "cell_type": "code",
   "execution_count": 12,
   "metadata": {},
   "outputs": [
    {
     "data": {
      "text/plain": [
       "2.8722813232690143"
      ]
     },
     "execution_count": 12,
     "metadata": {},
     "output_type": "execute_result"
    }
   ],
   "source": [
    "# Generate the biased or population std deviation.\n",
    "def biased(x):\n",
    "    stdp = np.sqrt(np.sum((x - np.mean(x))**2)/len(x))\n",
    "    return stdp\n",
    "biased(x)"
   ]
  },
  {
   "cell_type": "code",
   "execution_count": 13,
   "metadata": {},
   "outputs": [
    {
     "data": {
      "text/plain": [
       "3.0276503540974917"
      ]
     },
     "execution_count": 13,
     "metadata": {},
     "output_type": "execute_result"
    }
   ],
   "source": [
    "# Generate the unbiased or population std deviation.\n",
    "def unbiased(x):\n",
    "    stds = np.sqrt(np.sum((x - np.mean(x))**2)/(len(x)-1))\n",
    "    return stds\n",
    "unbiased(x)"
   ]
  },
  {
   "cell_type": "code",
   "execution_count": 14,
   "metadata": {},
   "outputs": [],
   "source": [
    "# Increase the sample.\n",
    "x = np.arange(0,10000)"
   ]
  },
  {
   "cell_type": "code",
   "execution_count": 15,
   "metadata": {},
   "outputs": [
    {
     "data": {
      "text/plain": [
       "2886.751331514372"
      ]
     },
     "execution_count": 15,
     "metadata": {},
     "output_type": "execute_result"
    }
   ],
   "source": [
    "biased(x)"
   ]
  },
  {
   "cell_type": "code",
   "execution_count": 16,
   "metadata": {},
   "outputs": [
    {
     "data": {
      "text/plain": [
       "2886.8956799071675"
      ]
     },
     "execution_count": 16,
     "metadata": {},
     "output_type": "execute_result"
    }
   ],
   "source": [
    "unbiased(x)"
   ]
  },
  {
   "cell_type": "markdown",
   "metadata": {},
   "source": [
    "#### Observations:\n",
    "- Population std deviation is lower that sample std deviation for both populations.\n",
    "\n",
    "- However as the population increases, the differences are minimal. For large sample sizes, STDEV.S and STDEV.P return approximately equal values.\n",
    "\n",
    "Next step is to compare STDEV.S and STDEV.P over a range of sample sizes. "
   ]
  },
  {
   "cell_type": "code",
   "execution_count": 17,
   "metadata": {},
   "outputs": [],
   "source": [
    "# Establish sample sizes and population and record results.\n",
    "samplesize = [10, 50, 100, 150, 250, 500, 750]\n",
    "pop = 1000\n",
    "results = []\n",
    "\n",
    "for s in samplesize:\n",
    "    sample =  np.random.uniform(low=0, high=100.0, size=s)\n",
    "    STDEVP = np.sqrt(np.sum((sample - np.mean(sample))**2)/len(sample))\n",
    "    STDEVS = np.sqrt(np.sum((sample - np.mean(sample))**2)/(len(sample)-1))\n",
    "    mean = np.mean(sample)\n",
    "    results.append([pop, s, mean, STDEVP, STDEVS])"
   ]
  },
  {
   "cell_type": "code",
   "execution_count": 18,
   "metadata": {},
   "outputs": [
    {
     "data": {
      "text/html": [
       "<style  type=\"text/css\" >\n",
       "    #T_318180af_4ab2_11eb_a2d3_50eb71c3f2d9 th {\n",
       "          text-align: left;\n",
       "    }#T_318180af_4ab2_11eb_a2d3_50eb71c3f2d9row0_col0,#T_318180af_4ab2_11eb_a2d3_50eb71c3f2d9row0_col1,#T_318180af_4ab2_11eb_a2d3_50eb71c3f2d9row0_col2,#T_318180af_4ab2_11eb_a2d3_50eb71c3f2d9row0_col3,#T_318180af_4ab2_11eb_a2d3_50eb71c3f2d9row0_col4,#T_318180af_4ab2_11eb_a2d3_50eb71c3f2d9row1_col0,#T_318180af_4ab2_11eb_a2d3_50eb71c3f2d9row1_col1,#T_318180af_4ab2_11eb_a2d3_50eb71c3f2d9row1_col2,#T_318180af_4ab2_11eb_a2d3_50eb71c3f2d9row1_col3,#T_318180af_4ab2_11eb_a2d3_50eb71c3f2d9row1_col4,#T_318180af_4ab2_11eb_a2d3_50eb71c3f2d9row2_col0,#T_318180af_4ab2_11eb_a2d3_50eb71c3f2d9row2_col1,#T_318180af_4ab2_11eb_a2d3_50eb71c3f2d9row2_col2,#T_318180af_4ab2_11eb_a2d3_50eb71c3f2d9row2_col3,#T_318180af_4ab2_11eb_a2d3_50eb71c3f2d9row2_col4,#T_318180af_4ab2_11eb_a2d3_50eb71c3f2d9row3_col0,#T_318180af_4ab2_11eb_a2d3_50eb71c3f2d9row3_col1,#T_318180af_4ab2_11eb_a2d3_50eb71c3f2d9row3_col2,#T_318180af_4ab2_11eb_a2d3_50eb71c3f2d9row3_col3,#T_318180af_4ab2_11eb_a2d3_50eb71c3f2d9row3_col4,#T_318180af_4ab2_11eb_a2d3_50eb71c3f2d9row4_col0,#T_318180af_4ab2_11eb_a2d3_50eb71c3f2d9row4_col1,#T_318180af_4ab2_11eb_a2d3_50eb71c3f2d9row4_col2,#T_318180af_4ab2_11eb_a2d3_50eb71c3f2d9row4_col3,#T_318180af_4ab2_11eb_a2d3_50eb71c3f2d9row4_col4,#T_318180af_4ab2_11eb_a2d3_50eb71c3f2d9row5_col0,#T_318180af_4ab2_11eb_a2d3_50eb71c3f2d9row5_col1,#T_318180af_4ab2_11eb_a2d3_50eb71c3f2d9row5_col2,#T_318180af_4ab2_11eb_a2d3_50eb71c3f2d9row5_col3,#T_318180af_4ab2_11eb_a2d3_50eb71c3f2d9row5_col4,#T_318180af_4ab2_11eb_a2d3_50eb71c3f2d9row6_col0,#T_318180af_4ab2_11eb_a2d3_50eb71c3f2d9row6_col1,#T_318180af_4ab2_11eb_a2d3_50eb71c3f2d9row6_col2,#T_318180af_4ab2_11eb_a2d3_50eb71c3f2d9row6_col3,#T_318180af_4ab2_11eb_a2d3_50eb71c3f2d9row6_col4{\n",
       "            text-align:  left;\n",
       "        }</style><table id=\"T_318180af_4ab2_11eb_a2d3_50eb71c3f2d9\" ><thead>    <tr>        <th class=\"blank level0\" ></th>        <th class=\"col_heading level0 col0\" >pop</th>        <th class=\"col_heading level0 col1\" >samplesize</th>        <th class=\"col_heading level0 col2\" >mean</th>        <th class=\"col_heading level0 col3\" >STDEVP</th>        <th class=\"col_heading level0 col4\" >STDEVS</th>    </tr></thead><tbody>\n",
       "                <tr>\n",
       "                        <th id=\"T_318180af_4ab2_11eb_a2d3_50eb71c3f2d9level0_row0\" class=\"row_heading level0 row0\" >0</th>\n",
       "                        <td id=\"T_318180af_4ab2_11eb_a2d3_50eb71c3f2d9row0_col0\" class=\"data row0 col0\" >1000</td>\n",
       "                        <td id=\"T_318180af_4ab2_11eb_a2d3_50eb71c3f2d9row0_col1\" class=\"data row0 col1\" >10</td>\n",
       "                        <td id=\"T_318180af_4ab2_11eb_a2d3_50eb71c3f2d9row0_col2\" class=\"data row0 col2\" >60.264227</td>\n",
       "                        <td id=\"T_318180af_4ab2_11eb_a2d3_50eb71c3f2d9row0_col3\" class=\"data row0 col3\" >28.659736</td>\n",
       "                        <td id=\"T_318180af_4ab2_11eb_a2d3_50eb71c3f2d9row0_col4\" class=\"data row0 col4\" >30.210015</td>\n",
       "            </tr>\n",
       "            <tr>\n",
       "                        <th id=\"T_318180af_4ab2_11eb_a2d3_50eb71c3f2d9level0_row1\" class=\"row_heading level0 row1\" >1</th>\n",
       "                        <td id=\"T_318180af_4ab2_11eb_a2d3_50eb71c3f2d9row1_col0\" class=\"data row1 col0\" >1000</td>\n",
       "                        <td id=\"T_318180af_4ab2_11eb_a2d3_50eb71c3f2d9row1_col1\" class=\"data row1 col1\" >50</td>\n",
       "                        <td id=\"T_318180af_4ab2_11eb_a2d3_50eb71c3f2d9row1_col2\" class=\"data row1 col2\" >47.139350</td>\n",
       "                        <td id=\"T_318180af_4ab2_11eb_a2d3_50eb71c3f2d9row1_col3\" class=\"data row1 col3\" >27.003188</td>\n",
       "                        <td id=\"T_318180af_4ab2_11eb_a2d3_50eb71c3f2d9row1_col4\" class=\"data row1 col4\" >27.277339</td>\n",
       "            </tr>\n",
       "            <tr>\n",
       "                        <th id=\"T_318180af_4ab2_11eb_a2d3_50eb71c3f2d9level0_row2\" class=\"row_heading level0 row2\" >2</th>\n",
       "                        <td id=\"T_318180af_4ab2_11eb_a2d3_50eb71c3f2d9row2_col0\" class=\"data row2 col0\" >1000</td>\n",
       "                        <td id=\"T_318180af_4ab2_11eb_a2d3_50eb71c3f2d9row2_col1\" class=\"data row2 col1\" >100</td>\n",
       "                        <td id=\"T_318180af_4ab2_11eb_a2d3_50eb71c3f2d9row2_col2\" class=\"data row2 col2\" >50.308808</td>\n",
       "                        <td id=\"T_318180af_4ab2_11eb_a2d3_50eb71c3f2d9row2_col3\" class=\"data row2 col3\" >29.768968</td>\n",
       "                        <td id=\"T_318180af_4ab2_11eb_a2d3_50eb71c3f2d9row2_col4\" class=\"data row2 col4\" >29.918939</td>\n",
       "            </tr>\n",
       "            <tr>\n",
       "                        <th id=\"T_318180af_4ab2_11eb_a2d3_50eb71c3f2d9level0_row3\" class=\"row_heading level0 row3\" >3</th>\n",
       "                        <td id=\"T_318180af_4ab2_11eb_a2d3_50eb71c3f2d9row3_col0\" class=\"data row3 col0\" >1000</td>\n",
       "                        <td id=\"T_318180af_4ab2_11eb_a2d3_50eb71c3f2d9row3_col1\" class=\"data row3 col1\" >150</td>\n",
       "                        <td id=\"T_318180af_4ab2_11eb_a2d3_50eb71c3f2d9row3_col2\" class=\"data row3 col2\" >49.967365</td>\n",
       "                        <td id=\"T_318180af_4ab2_11eb_a2d3_50eb71c3f2d9row3_col3\" class=\"data row3 col3\" >28.350166</td>\n",
       "                        <td id=\"T_318180af_4ab2_11eb_a2d3_50eb71c3f2d9row3_col4\" class=\"data row3 col4\" >28.445142</td>\n",
       "            </tr>\n",
       "            <tr>\n",
       "                        <th id=\"T_318180af_4ab2_11eb_a2d3_50eb71c3f2d9level0_row4\" class=\"row_heading level0 row4\" >4</th>\n",
       "                        <td id=\"T_318180af_4ab2_11eb_a2d3_50eb71c3f2d9row4_col0\" class=\"data row4 col0\" >1000</td>\n",
       "                        <td id=\"T_318180af_4ab2_11eb_a2d3_50eb71c3f2d9row4_col1\" class=\"data row4 col1\" >250</td>\n",
       "                        <td id=\"T_318180af_4ab2_11eb_a2d3_50eb71c3f2d9row4_col2\" class=\"data row4 col2\" >50.601864</td>\n",
       "                        <td id=\"T_318180af_4ab2_11eb_a2d3_50eb71c3f2d9row4_col3\" class=\"data row4 col3\" >28.574204</td>\n",
       "                        <td id=\"T_318180af_4ab2_11eb_a2d3_50eb71c3f2d9row4_col4\" class=\"data row4 col4\" >28.631525</td>\n",
       "            </tr>\n",
       "            <tr>\n",
       "                        <th id=\"T_318180af_4ab2_11eb_a2d3_50eb71c3f2d9level0_row5\" class=\"row_heading level0 row5\" >5</th>\n",
       "                        <td id=\"T_318180af_4ab2_11eb_a2d3_50eb71c3f2d9row5_col0\" class=\"data row5 col0\" >1000</td>\n",
       "                        <td id=\"T_318180af_4ab2_11eb_a2d3_50eb71c3f2d9row5_col1\" class=\"data row5 col1\" >500</td>\n",
       "                        <td id=\"T_318180af_4ab2_11eb_a2d3_50eb71c3f2d9row5_col2\" class=\"data row5 col2\" >50.856870</td>\n",
       "                        <td id=\"T_318180af_4ab2_11eb_a2d3_50eb71c3f2d9row5_col3\" class=\"data row5 col3\" >29.024046</td>\n",
       "                        <td id=\"T_318180af_4ab2_11eb_a2d3_50eb71c3f2d9row5_col4\" class=\"data row5 col4\" >29.053113</td>\n",
       "            </tr>\n",
       "            <tr>\n",
       "                        <th id=\"T_318180af_4ab2_11eb_a2d3_50eb71c3f2d9level0_row6\" class=\"row_heading level0 row6\" >6</th>\n",
       "                        <td id=\"T_318180af_4ab2_11eb_a2d3_50eb71c3f2d9row6_col0\" class=\"data row6 col0\" >1000</td>\n",
       "                        <td id=\"T_318180af_4ab2_11eb_a2d3_50eb71c3f2d9row6_col1\" class=\"data row6 col1\" >750</td>\n",
       "                        <td id=\"T_318180af_4ab2_11eb_a2d3_50eb71c3f2d9row6_col2\" class=\"data row6 col2\" >49.162663</td>\n",
       "                        <td id=\"T_318180af_4ab2_11eb_a2d3_50eb71c3f2d9row6_col3\" class=\"data row6 col3\" >28.750396</td>\n",
       "                        <td id=\"T_318180af_4ab2_11eb_a2d3_50eb71c3f2d9row6_col4\" class=\"data row6 col4\" >28.769582</td>\n",
       "            </tr>\n",
       "    </tbody></table>"
      ],
      "text/plain": [
       "<pandas.io.formats.style.Styler at 0x1cd64a50e50>"
      ]
     },
     "execution_count": 18,
     "metadata": {},
     "output_type": "execute_result"
    }
   ],
   "source": [
    "# create a dataframe to visualise the results\n",
    "df = pd.DataFrame(results, columns=[\"pop\",\"samplesize\",\"mean\", \"STDEVP\", \"STDEVS\"])\n",
    "dfStyler = df.style.set_properties(**{'text-align': 'left'})\n",
    "dfStyler.set_table_styles([dict(selector='th', props=[('text-align', 'left')])])"
   ]
  },
  {
   "cell_type": "code",
   "execution_count": 19,
   "metadata": {},
   "outputs": [
    {
     "data": {
      "text/plain": [
       "<AxesSubplot:>"
      ]
     },
     "execution_count": 19,
     "metadata": {},
     "output_type": "execute_result"
    },
    {
     "data": {
      "image/png": "[encoded data removed]",
      "text/plain": [
       "<Figure size 1440x360 with 1 Axes>"
      ]
     },
     "metadata": {
      "needs_background": "light"
     },
     "output_type": "display_data"
    }
   ],
   "source": [
    "# adapted from https://stackoverflow.com/questions/14940743/selecting-excluding-sets-of-columns-in-pandas\n",
    "df1 = df[[\"STDEVP\", \"STDEVS\"]]\n",
    "df1.plot(figsize=(20,5), marker='o')"
   ]
  },
  {
   "cell_type": "markdown",
   "metadata": {},
   "source": [
    "### Conclusion\n",
    "\n",
    "With statistical data, population datasets need to be differentiated from sample datasets. Population data sets contain all members therefore STDEV. P calculates the standard deviation for the entire population. It is divided by n and gives a biased estimate of population variance. Samples tend to underestimate variability of a population as values chosen are likely to be centered around the mean and extremes ignored.  Using n-1 provides a less biased estimator of the population's standard deviation. There still is some bias, but less than if you use the population standard deviation formula for a sample.  For large sample sizes, STDEV.S and STDEV.P return approximately equal values."
   ]
  },
  {
   "cell_type": "markdown",
   "metadata": {},
   "source": [
    "***"
   ]
  },
  {
   "cell_type": "markdown",
   "metadata": {},
   "source": [
    "### 4. Use scikit learn to apply KNN to the Iris data set"
   ]
  },
  {
   "cell_type": "markdown",
   "metadata": {},
   "source": [
    "#### Task Detail November 30th, 2020:\n",
    "Use scikit-learn to apply k Nearest Neighbours clustering to Fisher’s famous Iris data set. You will easily obtain a\n",
    "copy of the data set online. Explain in a Markdown cell how your code works and how accurate it might be, and then explain how your model could be used to make predictions of species of iris."
   ]
  },
  {
   "cell_type": "markdown",
   "metadata": {},
   "source": [
    "\n",
    "#### Task objectives:\n",
    "\n",
    "- Research the Iris Dataset.\n",
    "- Explain how code works.\n",
    "- Is it accurate?\n",
    "- Explain how model can make predictions."
   ]
  },
  {
   "cell_type": "markdown",
   "metadata": {},
   "source": [
    "### Research \n",
    "\n",
    "Ronald A. Fischer (British statistician and biologist) formulated linear discriminant analysis using the Iris dataset in his 1936 paper \"The use of multiple measurements in taxonomic problems\". The goal of discriminant analysis is given four measurements a flower can be classified correctly. Data analytics has evolved significantly since Fischer's paper with the Iris dataset used for training and testing of algorithms and Machine Learning. It appears possible that with multivariate samples outcomes can be predicted to high levels of accuracy.\n",
    "\n",
    "The data set comprises 50 samples from each of three species of Iris:\n",
    "\n",
    "- Iris Setosa\n",
    "- Iris Virginica\n",
    "- Iris Versicolor\n",
    "\n",
    "Four features are were measured from each sample:\n",
    "\n",
    "- Sepal length (cm)\n",
    "- Sepal width (cm)\n",
    "- Petal length (cm)\n",
    "- Petal width (cm)"
   ]
  },
  {
   "cell_type": "code",
   "execution_count": 20,
   "metadata": {},
   "outputs": [
    {
     "data": {
      "text/html": [
       "<div>\n",
       "<style scoped>\n",
       "    .dataframe tbody tr th:only-of-type {\n",
       "        vertical-align: middle;\n",
       "    }\n",
       "\n",
       "    .dataframe tbody tr th {\n",
       "        vertical-align: top;\n",
       "    }\n",
       "\n",
       "    .dataframe thead th {\n",
       "        text-align: right;\n",
       "    }\n",
       "</style>\n",
       "<table border=\"1\" class=\"dataframe\">\n",
       "  <thead>\n",
       "    <tr style=\"text-align: right;\">\n",
       "      <th></th>\n",
       "      <th>sepal length</th>\n",
       "      <th>sepal width</th>\n",
       "      <th>petal length</th>\n",
       "      <th>petal width</th>\n",
       "    </tr>\n",
       "  </thead>\n",
       "  <tbody>\n",
       "    <tr>\n",
       "      <th>count</th>\n",
       "      <td>150.000000</td>\n",
       "      <td>150.000000</td>\n",
       "      <td>150.000000</td>\n",
       "      <td>150.000000</td>\n",
       "    </tr>\n",
       "    <tr>\n",
       "      <th>mean</th>\n",
       "      <td>5.843333</td>\n",
       "      <td>3.054000</td>\n",
       "      <td>3.758667</td>\n",
       "      <td>1.198667</td>\n",
       "    </tr>\n",
       "    <tr>\n",
       "      <th>std</th>\n",
       "      <td>0.828066</td>\n",
       "      <td>0.433594</td>\n",
       "      <td>1.764420</td>\n",
       "      <td>0.763161</td>\n",
       "    </tr>\n",
       "    <tr>\n",
       "      <th>min</th>\n",
       "      <td>4.300000</td>\n",
       "      <td>2.000000</td>\n",
       "      <td>1.000000</td>\n",
       "      <td>0.100000</td>\n",
       "    </tr>\n",
       "    <tr>\n",
       "      <th>25%</th>\n",
       "      <td>5.100000</td>\n",
       "      <td>2.800000</td>\n",
       "      <td>1.600000</td>\n",
       "      <td>0.300000</td>\n",
       "    </tr>\n",
       "    <tr>\n",
       "      <th>50%</th>\n",
       "      <td>5.800000</td>\n",
       "      <td>3.000000</td>\n",
       "      <td>4.350000</td>\n",
       "      <td>1.300000</td>\n",
       "    </tr>\n",
       "    <tr>\n",
       "      <th>75%</th>\n",
       "      <td>6.400000</td>\n",
       "      <td>3.300000</td>\n",
       "      <td>5.100000</td>\n",
       "      <td>1.800000</td>\n",
       "    </tr>\n",
       "    <tr>\n",
       "      <th>max</th>\n",
       "      <td>7.900000</td>\n",
       "      <td>4.400000</td>\n",
       "      <td>6.900000</td>\n",
       "      <td>2.500000</td>\n",
       "    </tr>\n",
       "  </tbody>\n",
       "</table>\n",
       "</div>"
      ],
      "text/plain": [
       "       sepal length  sepal width  petal length  petal width\n",
       "count    150.000000   150.000000    150.000000   150.000000\n",
       "mean       5.843333     3.054000      3.758667     1.198667\n",
       "std        0.828066     0.433594      1.764420     0.763161\n",
       "min        4.300000     2.000000      1.000000     0.100000\n",
       "25%        5.100000     2.800000      1.600000     0.300000\n",
       "50%        5.800000     3.000000      4.350000     1.300000\n",
       "75%        6.400000     3.300000      5.100000     1.800000\n",
       "max        7.900000     4.400000      6.900000     2.500000"
      ]
     },
     "execution_count": 20,
     "metadata": {},
     "output_type": "execute_result"
    }
   ],
   "source": [
    "# Summarise the Iris dataset.\n",
    "from sklearn import datasets\n",
    "with open(\"Iris.csv\", \"r\") as f:\n",
    "    df = pd.read_csv(f)\n",
    "df.describe()"
   ]
  },
  {
   "cell_type": "markdown",
   "metadata": {},
   "source": [
    "The standard deviation for all three species of Iris is low therefore the results indicate that the data samples are reasonably close to the mean and as a result potentially predictable.\n",
    "\n",
    "Petal width stands out as an identifier for Iris class.  Petal width observations:\n",
    "- Iris-Virginica has the widest petals. 1.4 - 2.5 (1.8 to 2.5 is always Virginica)\n",
    "- Iris-Versicolor has medium width petals. 1.0 - 1.8 is always Versicolor\n",
    "- Iris-Setosa has the narrowest petals. 0.1 - 0.6 cm meaning Setosa can be identified using petal width as the key parameter.\n"
   ]
  },
  {
   "cell_type": "code",
   "execution_count": 21,
   "metadata": {},
   "outputs": [
    {
     "data": {
      "image/png": "[encoded data removed]",
      "text/plain": [
       "<Figure size 823.25x720 with 20 Axes>"
      ]
     },
     "metadata": {
      "needs_background": "light"
     },
     "output_type": "display_data"
    }
   ],
   "source": [
    "#Create 3 DataFrames for each class of Iris in order to visualise the relationships.\n",
    "\n",
    "# Name each dataset - Setosa is the class Iris Setosa.\n",
    "setosa = df[df['class']=='Iris-setosa']\n",
    "# Name each dataset - Versicolor is the class Iris Versicolor.\n",
    "versicolor = df[df['class']=='Iris-versicolor']\n",
    "# Name each dataset - Virginica is the class Iris Virginica.\n",
    "virginica = df[df['class']=='Iris-virginica']\n",
    "\n",
    "# Use seaborn to generate graphics [https://seaborn.pydata.org/generated/seaborn.pairplot.html].\n",
    "g = sns.pairplot(df, hue='class', markers=[\"o\", \"s\", \"D\"])\n",
    "# Show the plot.\n",
    "plt.show()"
   ]
  },
  {
   "cell_type": "markdown",
   "metadata": {},
   "source": [
    "#### Review of charts\n",
    "The  charts clearly demonstrate the correlation between sepal width and length and petal width and length for each class of Iris. Setosa stands out from Virginica and Versicolor. Setosa is easily identifiable by petal width (in particular) and petal length as the data is closely grouped. Virginica and Versicolor appear more closely related. "
   ]
  },
  {
   "cell_type": "markdown",
   "metadata": {},
   "source": [
    "###  KNN\n",
    "\n",
    "With machine learning, patterns are identified and analysed with decisions taken autonomously based on observations and learnings from datasets.  K Nearest Neighbour is an algorithm that stores data and classifies new data on based on similarities to the existing dataset. It classifies new data points based on its neighbours.\n",
    "\n",
    "KNN is a supervised algorithm that can be used for both classification and regression predictive problems.  Supervised Learning refers to datasets consisting of both features and labels.  It is further broken down into two categories, classification and regression. In classification, the label is discrete, while in regression, the label is continuous. [36] \n",
    "\n",
    "The goal of supervised learning is to estimate or predict an output based on one or more inputs with the output being a dependent variable. It establishes a classifier such that when a new observation is presented with an unknown category, the observation is assigned a class.  Effectively for any new observation, it first identifies k points in the data that are nearest to the point and classifies the new data point as belonging to the most common class among those k neighbors. An object is classified by a majority vote of its neighbours, with the object being assigned to the class most common among its nearest K neighbours. This value is the average of the values of its k nearest neighbours. [35] "
   ]
  },
  {
   "cell_type": "markdown",
   "metadata": {},
   "source": [
    "### Build the model and make predictions\n",
    "\n",
    "Models can be built using KNeighborsClassifier(). KNN can then be used to predict species of Iris from given dimensions. \n",
    "\n",
    "This is completed with the following steps:\n",
    "\n",
    "- Relevant libraries are imported and the data converted into features and classes.\n",
    "- Data is classified and k is determined (how many neighbours required to class a data point).\n",
    "- Data is trained which facilitates prediction.\n",
    "- Evaluate the result to determine accuracy.\n",
    "- Determine if the result can be optimised."
   ]
  },
  {
   "cell_type": "markdown",
   "metadata": {},
   "source": [
    "#### Import Libraries"
   ]
  },
  {
   "cell_type": "code",
   "execution_count": 22,
   "metadata": {},
   "outputs": [],
   "source": [
    "import sklearn.neighbors as nei\n",
    "import pandas as pd\n",
    "import sklearn.model_selection as mod\n",
    "from sklearn.metrics import confusion_matrix, classification_report, accuracy_score\n",
    "from sklearn.model_selection import cross_val_score"
   ]
  },
  {
   "cell_type": "markdown",
   "metadata": {},
   "source": [
    "#### Determine inputs and outputs"
   ]
  },
  {
   "cell_type": "code",
   "execution_count": 23,
   "metadata": {},
   "outputs": [],
   "source": [
    "# Adapted from https://github.com/ianmcloughlin/jupyter-teaching-notebooks/blob/master/knn-iris.ipynb.\n",
    "# Inputs are features.\n",
    "inputs = df[['sepal length', 'sepal width', 'petal length', 'petal width']]\n",
    "# Output is class.\n",
    "outputs = df['class']"
   ]
  },
  {
   "cell_type": "markdown",
   "metadata": {},
   "source": [
    " #### Classify the dataset\n",
    " \n",
    " \n",
    " - Create the classifier (KNeighborsClassifier()).\n",
    " - Set k equal to 5, meaning that to predict the class of new instances, 5 neighbours are required to make this determination.  The choice of k is important in KNN.  If k = 1, KNN picks the nearest neighbour and automatically classifies.  If k > 1, then a vote by majority class will be used to classify the point.    "
   ]
  },
  {
   "cell_type": "code",
   "execution_count": 24,
   "metadata": {},
   "outputs": [],
   "source": [
    "# Create an instance knn which implements KNN classification. \n",
    "# The parameter ‘n_neighbors’ is the parameter (k) .\n",
    "knn = nei.KNeighborsClassifier(n_neighbors=5)"
   ]
  },
  {
   "cell_type": "markdown",
   "metadata": {},
   "source": [
    "#### Fit the dataset\n",
    "\n",
    "- The ‘fit’ method is used to train the model on the input data\n",
    "- For given inputs the outputs are known and this will be the basis for the predict step."
   ]
  },
  {
   "cell_type": "code",
   "execution_count": 25,
   "metadata": {},
   "outputs": [
    {
     "data": {
      "text/plain": [
       "KNeighborsClassifier()"
      ]
     },
     "execution_count": 25,
     "metadata": {},
     "output_type": "execute_result"
    }
   ],
   "source": [
    "# Fit inputs into classes.\n",
    "knn.fit(inputs, outputs)"
   ]
  },
  {
   "cell_type": "markdown",
   "metadata": {},
   "source": [
    "#### Predict the dataset\n",
    "- The predict step is built based on the set of known correct classifications and predicts the species of a flower based on known measurements.\n",
    "- Choosing the optimal value of K is critical.  5 is chosen so decision will be based on 5 closest neighbours.\n",
    "- Test the model.  Check species at location 100 and ask the predictor based on its dimensions the class."
   ]
  },
  {
   "cell_type": "code",
   "execution_count": 26,
   "metadata": {},
   "outputs": [
    {
     "data": {
      "text/plain": [
       "sepal length               6.3\n",
       "sepal width                3.3\n",
       "petal length                 6\n",
       "petal width                2.5\n",
       "class           Iris-virginica\n",
       "Name: 100, dtype: object"
      ]
     },
     "execution_count": 26,
     "metadata": {},
     "output_type": "execute_result"
    }
   ],
   "source": [
    "# Select random flower.\n",
    "df.loc[100]"
   ]
  },
  {
   "cell_type": "code",
   "execution_count": 27,
   "metadata": {},
   "outputs": [
    {
     "data": {
      "text/plain": [
       "array(['Iris-virginica'], dtype=object)"
      ]
     },
     "execution_count": 27,
     "metadata": {},
     "output_type": "execute_result"
    }
   ],
   "source": [
    "# Result is verified.\n",
    "knn.predict([[6.3, 3.3, 6, 2.5]])"
   ]
  },
  {
   "cell_type": "code",
   "execution_count": 28,
   "metadata": {},
   "outputs": [
    {
     "data": {
      "text/plain": [
       "145"
      ]
     },
     "execution_count": 28,
     "metadata": {},
     "output_type": "execute_result"
    }
   ],
   "source": [
    "# How many inputs agree with outputs - out of 150 inputs - how many correlate to output?\n",
    "(knn.predict(inputs) == outputs).sum()"
   ]
  },
  {
   "cell_type": "markdown",
   "metadata": {},
   "source": [
    "#### Split the data for training and testing purposes\n",
    "To determine class based on its dimensions of petal width, petal length, sepal width and sepal length, the Iris dataset is split into training and testing in order to apply KNN classification.  It is important not to test the prediction of an estimator on the data used to fit the estimator as this would not be evaluating the performance of the estimator on new data. [39].  70% of the data is used for training while KNN classification is tested on the remaining 30% of the data.  \n",
    "\n",
    "- Random state is included in order to maintain the same result when re-run.\n",
    "- Shape of inputs and outputs are generated below.  The output is class which is determined by the majority vote of its k nearest neighbours."
   ]
  },
  {
   "cell_type": "code",
   "execution_count": 29,
   "metadata": {},
   "outputs": [],
   "source": [
    "# Data contained in inputs and outputs used for model training with 30% used for testing inputs and outputs.\n",
    "# Adapted from https://github.com/ianmcloughlin/jupyter-teaching-notebooks/blob/master/knn-iris.ipynb.\n",
    "inputs_train, inputs_test, outputs_train, outputs_test = mod.train_test_split(inputs, outputs, test_size=0.3, random_state = 10)"
   ]
  },
  {
   "cell_type": "markdown",
   "metadata": {},
   "source": [
    "####  Shape of inputs"
   ]
  },
  {
   "cell_type": "code",
   "execution_count": 30,
   "metadata": {},
   "outputs": [
    {
     "name": "stdout",
     "output_type": "stream",
     "text": [
      "(105, 4)\n",
      "(45, 4)\n"
     ]
    }
   ],
   "source": [
    "print(inputs_train.shape)\n",
    "print(inputs_test.shape)"
   ]
  },
  {
   "cell_type": "markdown",
   "metadata": {},
   "source": [
    "#### Shape of outputs"
   ]
  },
  {
   "cell_type": "code",
   "execution_count": 31,
   "metadata": {},
   "outputs": [
    {
     "name": "stdout",
     "output_type": "stream",
     "text": [
      "(105,)\n",
      "(45,)\n"
     ]
    }
   ],
   "source": [
    "print(outputs_train.shape)\n",
    "print(outputs_test.shape)"
   ]
  },
  {
   "cell_type": "markdown",
   "metadata": {},
   "source": [
    "#### Sample of first 5 rows of data"
   ]
  },
  {
   "cell_type": "code",
   "execution_count": 32,
   "metadata": {},
   "outputs": [
    {
     "name": "stdout",
     "output_type": "stream",
     "text": [
      "Inputs:\n",
      "     sepal length  sepal width  petal length  petal width\n",
      "32            5.2          4.1           1.5          0.1\n",
      "52            6.9          3.1           4.9          1.5\n",
      "70            5.9          3.2           4.8          1.8\n",
      "121           5.6          2.8           4.9          2.0\n",
      "144           6.7          3.3           5.7          2.5\n",
      "\n",
      " Outputs:\n",
      "32         Iris-setosa\n",
      "52     Iris-versicolor\n",
      "70     Iris-versicolor\n",
      "121     Iris-virginica\n",
      "144     Iris-virginica\n",
      "Name: class, dtype: object\n"
     ]
    }
   ],
   "source": [
    "# Trained inputs determine trained outputs\n",
    "print (\"Inputs:\")\n",
    "print(inputs_train.head())\n",
    "print (\"\\n\",\"Outputs:\")\n",
    "print(outputs_train.head())"
   ]
  },
  {
   "cell_type": "markdown",
   "metadata": {},
   "source": [
    "#### Instantiate KNN"
   ]
  },
  {
   "cell_type": "code",
   "execution_count": 33,
   "metadata": {},
   "outputs": [],
   "source": [
    "knn = nei.KNeighborsClassifier(n_neighbors=5)"
   ]
  },
  {
   "cell_type": "markdown",
   "metadata": {},
   "source": [
    "#### Train the data"
   ]
  },
  {
   "cell_type": "code",
   "execution_count": 34,
   "metadata": {},
   "outputs": [
    {
     "data": {
      "text/plain": [
       "KNeighborsClassifier()"
      ]
     },
     "execution_count": 34,
     "metadata": {},
     "output_type": "execute_result"
    }
   ],
   "source": [
    "knn.fit(inputs_train, outputs_train)"
   ]
  },
  {
   "cell_type": "markdown",
   "metadata": {},
   "source": [
    "#### Accuracy Score"
   ]
  },
  {
   "cell_type": "code",
   "execution_count": 35,
   "metadata": {},
   "outputs": [
    {
     "name": "stdout",
     "output_type": "stream",
     "text": [
      "Accuracy Score: 97.8 %\n"
     ]
    }
   ],
   "source": [
    "# How many of the inputs tested were classified correctly (30% of 150 = 45).\n",
    "print(\"Accuracy Score: %0.1f\" % (knn.score(inputs_test,outputs_test)*100), \"%\"[0])"
   ]
  },
  {
   "cell_type": "markdown",
   "metadata": {},
   "source": [
    "#### Predict\n",
    "The algorithm has been trained therefore test data can be used for predictive purposes.  The test data is the 45 predicted species of Iris from the input_test. "
   ]
  },
  {
   "cell_type": "code",
   "execution_count": 36,
   "metadata": {},
   "outputs": [],
   "source": [
    "# Predict the classifications.\n",
    "predictions = knn.predict(inputs_test)"
   ]
  },
  {
   "cell_type": "markdown",
   "metadata": {},
   "source": [
    "#### Evaluate\n",
    "Results can be validated against the original classification represented in the outputs_test.  Results table is displayed below.\n",
    "\n",
    "- Setosa is clearly identifiable and all have been identified correctly (recall of 100%).\n",
    "- One Virginica was misclassified as Versicolor."
   ]
  },
  {
   "cell_type": "code",
   "execution_count": 37,
   "metadata": {},
   "outputs": [
    {
     "name": "stdout",
     "output_type": "stream",
     "text": [
      "Predicted        Iris-setosa  Iris-versicolor  Iris-virginica  Total\n",
      "Original                                                            \n",
      "Iris-setosa               14                0               0     14\n",
      "Iris-versicolor            0               16               1     17\n",
      "Iris-virginica             0                0              14     14\n",
      "Total                     14               16              15     45\n"
     ]
    }
   ],
   "source": [
    "print(pd.crosstab(outputs_test, predictions, rownames=['Original'], colnames=['Predicted'], margins=True, margins_name='Total'))"
   ]
  },
  {
   "cell_type": "markdown",
   "metadata": {},
   "source": [
    "#### Classification reports\n",
    "\n",
    "SKlearn's classification_report provides summary statistics on the classifier's performance.\n",
    "\n",
    "<b>Precision</b><br>\n",
    "Precision quantifies the number of correct positive predictions made.  Setosa and Versicolor are classified with 100% accuracy compared to 93% for Virginica.\n",
    "\n",
    "<b>Recall</b><br>\n",
    "Recall is a metric that quantifies the number of correct positive predictions made out of all positive predictions that could have been made. \n",
    "\n",
    "<b>F1 score</b><br>\n",
    "F1 score provides a way to combine both precision and recall into a single measure that captures both properties.  It represents a weighted average between these two metrics. It is a good indicator of model performance with accuracy levels of 98% which correlates with the accuracy score above.\n",
    "\n",
    "<b>Support</b><br>\n",
    "Support is the number of actual occurrences of the class - one point to note is that it is not evenly spread between classes. [38]\n",
    "\n",
    "<b>Confusion Report</b><br>\n",
    "The confusion matrix determines how many observations were incorrectly classified."
   ]
  },
  {
   "cell_type": "code",
   "execution_count": 38,
   "metadata": {},
   "outputs": [
    {
     "name": "stdout",
     "output_type": "stream",
     "text": [
      "                 precision    recall  f1-score   support\n",
      "\n",
      "    Iris-setosa       1.00      1.00      1.00        14\n",
      "Iris-versicolor       1.00      0.94      0.97        17\n",
      " Iris-virginica       0.93      1.00      0.97        14\n",
      "\n",
      "       accuracy                           0.98        45\n",
      "      macro avg       0.98      0.98      0.98        45\n",
      "   weighted avg       0.98      0.98      0.98        45\n",
      "\n"
     ]
    }
   ],
   "source": [
    "# Print classification report.\n",
    "print(classification_report(outputs_test, predictions))"
   ]
  },
  {
   "cell_type": "code",
   "execution_count": 39,
   "metadata": {},
   "outputs": [
    {
     "name": "stdout",
     "output_type": "stream",
     "text": [
      "[[14  0  0]\n",
      " [ 0 16  1]\n",
      " [ 0  0 14]]\n"
     ]
    }
   ],
   "source": [
    "# Print confusion matrix in order to determine how many observations were incorrectly classified. \n",
    "print(confusion_matrix(outputs_test, predictions))"
   ]
  },
  {
   "cell_type": "markdown",
   "metadata": {},
   "source": [
    "### Optimising KNN Accuracy"
   ]
  },
  {
   "cell_type": "markdown",
   "metadata": {},
   "source": [
    "#### Cross-Validation\n",
    "\n",
    "Accuracy is high at 97.8% with a random seed set.  The selection of data used for training and testing can impact the efficiency of the model. Different training data means that the algorithm is fitted differently and yields different predictions.  Can the algorithm be optimised in terms of accuracy?  For future unknown data points how accurately will the model predict the correct species of Iris?\n",
    "\n",
    " With cross-validation, data is split into training data, cross-validation data and test data. Training data is used to find nearest neighbors, cross-validation data is to find the best value of “K” (k value in k-fold cross-validation) and the model is then tested on unseen test data. This test data is equivalent to the future unseen data points. [40] Holding out a subset of the training set from the fitting process for validation by randomly dividing the training set into k groups, of approximately equal size. \n",
    "\n",
    "This optimises accuracy reducing the risk of overfitting when the classifier works well on trained data but not on test data.  The best K is the one that corresponds to the lowest test error rate.  \n",
    "\n",
    "The next step is to run the cross validation score from KNN.  From the table below, performance varies with each iteration.  Performance of the classifier is considered as the average of the cross validation scores. "
   ]
  },
  {
   "cell_type": "code",
   "execution_count": 40,
   "metadata": {},
   "outputs": [
    {
     "data": {
      "text/plain": [
       "array([1.        , 0.93333333, 1.        , 1.        , 0.86666667,\n",
       "       0.93333333, 0.93333333, 1.        , 1.        , 1.        ])"
      ]
     },
     "execution_count": 40,
     "metadata": {},
     "output_type": "execute_result"
    }
   ],
   "source": [
    "# 10-fold (cv=10) cross-validation with K=5 (n_neighbors=5) for KNN (the n_neighbors parameter).\n",
    "iris = sns.load_dataset(\"iris\")\n",
    "scores = cross_val_score(knn, iris.drop('species',axis=1), iris.species, cv=10, scoring='accuracy')\n",
    "scores"
   ]
  },
  {
   "cell_type": "code",
   "execution_count": 41,
   "metadata": {},
   "outputs": [
    {
     "name": "stdout",
     "output_type": "stream",
     "text": [
      "Accuracy Score: 96.7 %\n"
     ]
    }
   ],
   "source": [
    "# Average value for accuracy\n",
    "print(\"Accuracy Score: %0.1f\" % (scores.mean()*100), \"%\"[0])"
   ]
  },
  {
   "cell_type": "markdown",
   "metadata": {},
   "source": [
    "#### Optimising KNN (k nearest neighbours)\n",
    "\n",
    "The parameter K from KNN was set as 5 initially without any basis for doing so.  Can this parameter can be optimised in order for accuracy to be improved?  "
   ]
  },
  {
   "cell_type": "code",
   "execution_count": 42,
   "metadata": {},
   "outputs": [
    {
     "data": {
      "image/png": "[encoded data removed]",
      "text/plain": [
       "<Figure size 432x288 with 1 Axes>"
      ]
     },
     "metadata": {
      "needs_background": "light"
     },
     "output_type": "display_data"
    }
   ],
   "source": [
    "# Adapted from https://www.kaggle.com/melihkanbay/knn-best-parameters-gridsearchcv\n",
    "# Create a list of possible k factors from 1 to 30.\n",
    "k_range = list(range(1, 31))\n",
    "k_scores = []\n",
    "# Loop though the list and obtain the cross validation scores for each k value\n",
    "for k in k_range:\n",
    "    knn = nei.KNeighborsClassifier(n_neighbors=k) \n",
    "    scores = cross_val_score(knn, inputs, outputs, cv=10, scoring='accuracy')\n",
    "    k_scores.append(scores.mean())\n",
    "plt.plot(k_range, k_scores)\n",
    "plt.xlabel('Value of K for KNN')\n",
    "plt.ylabel('Cross-Validated Accuracy')\n",
    "plt.show()"
   ]
  },
  {
   "cell_type": "code",
   "execution_count": 43,
   "metadata": {},
   "outputs": [
    {
     "name": "stdout",
     "output_type": "stream",
     "text": [
      "Cross Validation Accuracy: 98.0 %\n"
     ]
    }
   ],
   "source": [
    "knn = nei.KNeighborsClassifier(n_neighbors=20) \n",
    "print(\"Cross Validation Accuracy: %0.1f\" % (cross_val_score(knn, inputs, outputs, cv=10, scoring='accuracy').mean()*100), \"%\"[0])"
   ]
  },
  {
   "cell_type": "markdown",
   "metadata": {},
   "source": [
    "### Conclusion\n",
    "\n",
    "KNN is a simple algorithm used to solve classification problems. It enables a classifier to be built which takes input and labels that input as output. It predicts and classifies data points with unknown classes.   The Iris dataset is well suited to KNN as the data is clustered closely together and therefore already predictable. However, if the sample was much more widely spread or ambiguous, it is certain that predicted outcome would not be as accurate.  \n",
    "\n",
    "Accuracy is very high and is further enhanced with optimising the parameter k (b=number of nearest neighbours) and cross validation."
   ]
  },
  {
   "cell_type": "markdown",
   "metadata": {},
   "source": [
    "### References\n",
    "[1]  GitHub Inc., “GitHub,”https://github.com/.<br>\n",
    "[2]  GMIT, “Quality Assurance Framework,”https://www.gmit.ie/general/quality-assurance-framework.<br>\n",
    "[3]  I. McLoughlin, “Using git for assessments,”https://github.com/ianmcloughlin/using-git-for-assessments.<br>\n",
    "[4]  https://en.wikipedia.org/wiki/Square_root_of_2<br>\n",
    "[5]  https://en.wikipedia.org/wiki/Rational_number<br>\n",
    "[6]  https://plus.maths.org/content/maths-minute-square-root-2-irrational<br>\n",
    "[7]  https://docs.oracle.com/cd/E19957-01/806-3568/ncg_goldberg.html<br>\n",
    "[8]  https://docs.python.org/3/tutorial/floatingpoint.html<br>\n",
    "[9]  https://www.khanacademy.org/computing/computers-and-internet/xcae6f4a7ff015e7d:digital-information/xcae6f4a7ff015e7d:limitations-of-storing-numbers/a/number-limits-overflow-and-roundoff<br>\n",
    "[10] https://apod.nasa.gov/htmltest/gifcity/sqrt2.1mil<br>\n",
    "[11] https://maths.ucd.ie/~onaraigh/acm20030/acm_20030_Jan2014_v1.pdf<br>\n",
    "[12].https://en.wikipedia.org/w/index.php?title=Chi-squared_test&oldid=983024096<br>\n",
    "[12].https://support.minitab.com/en-us/minitab/18/help-and-how-to/statistics/tables/supporting-topics/chi-square/what-is-the-chi-square-statistic/<br>\n",
    "[13] https://www.analyticsvidhya.com/blog/2019/11/what-is-chi-square-test-how-it-works/<br>\n",
    "[14] https://stackoverflow.com/questions/64669448/understanding-scipy-stats-chisquare<br>\n",
    "[15] https://machinelearningmastery.com/chi-squared-test-for-machine-learning/<br>\n",
    "[16] http://mathbitsnotebook.com/Algebra1/StatisticsData/STPopSample.html<br>\n",
    "[17] https://en.wikipedia.org/wiki/Standard_deviation<br>\n",
    "[18] https://www.exceltip.com/statistical-formulas/how-to-use-excel-stdev-p-function.html<br>\n",
    "[19]https://support.microsoft.com/en-us/office/stdev-p-function-6e917c05-31a0-496f-ade7-4f4e7462f285<br>\n",
    "[20] https://support.microsoft.com/en-us/office/stdev-s-function-7d69cf97-0c1f-4acf-be27-f3e83904cc23<br>\n",
    "[21] https://scikit-learn.org/stable/auto_examples/cluster/plot_cluster_iris.html<br>\n",
    "[22] https://stackoverflow.com/questions/5187664/generating-digits-of-square-root-of-2<br>\n",
    "[23] https://heartbeat.fritz.ai/k-means-clustering-using-sklearn-and-python-4a054d67b187<br>\n",
    "[24] https://towardsdatascience.com/understanding-k-means-clustering-in-machine-learning-6a6e67336aa1<br>\n",
    "[25] https://www.datanovia.com/en/lessons/determining-the-optimal-number-of-clusters-3-must-know-methods/<br>\n",
    "[26] https://uc-r.github.io/kmeans_clustering<br>\n",
    "[27] https://medium.com/@belen.sanchez27/predicting-iris-flower-species-with-k-means-clustering-in-python-f6e46806aaee<br>\n",
    "[28] https://scikit-learn.org/stable/modules/clustering.html#silhouette-coefficient<br>\n",
    "[29] https://mortada.net/computing-sample-variance-why-divide-by-n-1.html<br>\n",
    "[30] https://en.wikipedia.org/wiki/Bessel%27s_correction#Source_of_bias<br>\n",
    "[31] https://en.wikipedia.org/wiki/Methods_of_computing_square_roots<br>\n",
    "[32] https://uk.answers.yahoo.com/question/index?qid=20070704205130AAR9d5t<br>\n",
    "[33] https://scikit-learn.org/stable/modules/neighbors.html#classification<br>\n",
    "[34] https://github.com/ianmcloughlin/jupyter-teaching-notebooks/blob/master/knn-iris.ipynb<br>\n",
    "[35] https://www.geeksforgeeks.org/project-knn-classifying-iris-dataset/<br>\n",
    "[36] http://scipy-lectures.org/packages/scikit-learn/index.html <br>\n",
    "[37] https://medium.com/@avulurivenkatasaireddy/k-nearest-neighbors-and-implementation-on-iris-data-set-f5817dd33711 <br>\n",
    "[38] https://machinelearningmastery.com/precision-recall-and-f-measure-for-imbalanced-classification//<br>\n",
    "[39] https://scikit-learn.org/stable/tutorial/statistical_inference/supervised_learning.html<br>\n",
    "[40] https://towardsdatascience.com/cross-validation-using-knn-6babb6e619c8<br>\n",
    "[41] https://www.kaggle.com/melihkanbay/knn-best-parameters-gridsearchcv<br>"
   ]
  },
  {
   "cell_type": "markdown",
   "metadata": {},
   "source": [
    "*** \n",
    "### The End"
   ]
  }
 ],
 "metadata": {
  "kernelspec": {
   "display_name": "Python 3",
   "language": "python",
   "name": "python3"
  },
  "language_info": {
   "codemirror_mode": {
    "name": "ipython",
    "version": 3
   },
   "file_extension": ".py",
   "mimetype": "text/x-python",
   "name": "python",
   "nbconvert_exporter": "python",
   "pygments_lexer": "ipython3",
   "version": "3.8.5"
  },
  "toc": {
   "base_numbering": 1,
   "nav_menu": {},
   "number_sections": false,
   "sideBar": true,
   "skip_h1_title": false,
   "title_cell": "Table of Contents",
   "title_sidebar": "Contents",
   "toc_cell": false,
   "toc_position": {},
   "toc_section_display": true,
   "toc_window_display": false
  }
 },
 "nbformat": 4,
 "nbformat_minor": 4
}
