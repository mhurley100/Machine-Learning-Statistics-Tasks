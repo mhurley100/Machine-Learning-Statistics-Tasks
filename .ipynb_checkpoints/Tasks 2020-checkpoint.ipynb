{
 "cells": [
  {
   "cell_type": "markdown",
   "metadata": {},
   "source": [
    "# Machine Learning & Statistics Tasks 2020\n",
    "***\n",
    "    "
   ]
  },
  {
   "cell_type": "markdown",
   "metadata": {},
   "source": [
    "These are my solutions to the Tasks assessment 2020. "
   ]
  },
  {
   "cell_type": "markdown",
   "metadata": {},
   "source": [
    "## Task Calculate a square root"
   ]
  },
  {
   "cell_type": "markdown",
   "metadata": {},
   "source": [
    "### Square root of 2"
   ]
  },
  {
   "attachments": {
    "image.png": {
     "image/png": "[encoded data removed]"
    }
   },
   "cell_type": "markdown",
   "metadata": {},
   "source": [
    "The square root of 2, $\\sqrt {2}$, or one-half power of 2, $2^{1/2}$, is the positive algebraic number that when multiplied by itself, equals the number 2. Technically the square root of 2 is called the principal square root of 2, in order to distinguish it from the negative number with the same property.\n",
    "\n",
    "Geometrically, the square root of 2 is the length of a diagonal across a square with sides of one unit of length (this follows from the Pythagorean theorem). The square root of 2 is equal to the length of the hypotenuse of an isosceles right triangle with legs of length 1.  It was probably the first number known to be irrational. The fraction \n",
    "$99\n",
    "/\n",
    "70$\n",
    " (≈ 1.4142857) is sometimes used as a good rational approximation with a reasonably small denominator. [4] \n",
    " \n",
    "![image.png](attachment:image.png) "
   ]
  },
  {
   "cell_type": "markdown",
   "metadata": {},
   "source": [
    "### Proof that the $\\sqrt {2}$ is irrational\n",
    "\n",
    "The $\\sqrt {2}$ is an irrational number as it is not a perfect square and cannot be made into an exact fraction.  It cannot be simplified into a smaller radical or cannot be written as a fraction $a/b$ where $a$ and $b$ are whole numbers. The decimal form of an irrational number neither terminates nor repeats. [5]  \n",
    " \n",
    "Proof is by contradiction - try to prove that $\\sqrt {2}$ is a rational number.<br><br>\n",
    "$\\sqrt {2}$ written as a fraction $a/b$ with $a$ and $b$ with no common factor other than 1 is as follows:\n",
    "\n",
    "$\\sqrt {2}$ = $\\frac{a}{b}$\n",
    "\n",
    "Square both sides:\n",
    "\n",
    "2 = $\\frac{a^2}{b^2}$\n",
    "\n",
    "Multiplying both sides by $b^2$ gives\n",
    "\n",
    "$2b^2$ = $a^2$\n",
    "\n",
    "Therefore $a^2$ is an even number as is the product of an integer. If $a^2$ is an even number, then so is $a$ (the square of an odd number is odd and an even number even). This means that $a$ can be written as $2c$ for another whole number $c$ as follows:\n",
    "\n",
    "$2b^2 = a^2= (2c)^2 = 4c^2$\n",
    "    \n",
    "Divide by 2:\n",
    "\n",
    "$b^2 = 2c^2.$\n",
    "\n",
    "As $b^2$ is even, this means that $b$ is even. As both $a$ and $b$ are even, this contradicts the assumption that they contain no common factor: if they are both even, then they have a common factor of $2$. This contradiction implies that our original assumption, that $\\sqrt {2}$ can be written as a fraction $a/b$ must be false. Therefore, $\\sqrt {2}$ is irrational.\n",
    "\n",
    "One of the two unknown numbers is odd as the fraction cannot be reduced into a ratio of smaller numbers.[6] "
   ]
  },
  {
   "cell_type": "markdown",
   "metadata": {},
   "source": [
    "### Floating Point Numbers\n",
    "\n",
    "<b><i>\"Floating-point arithmetic is considered an esoteric subject by many people. This is rather surprising because floating-point is ubiquitous in computer systems\". </i></b>[7] \n",
    "\n",
    "Binary floating point arithmetic calculations involving binary floating point numbers may not yield precise results. \n",
    "Floating-point calculations can have rounding errors and must often be rounded in order to fit back into its finite representation.  There are limitations to storing integers in a computer.  Floating point numbers are even more difficult to represent in computer memory.[8] \n",
    "\n",
    "#### Rounding errors\n",
    "An infinite sequence cannot be stored in a computer. At some point, the computer has to end the number either by terminating at a point or rounding to the nearest floating point number. \n",
    "Decimal floating-point numbers are approximated by the binary floating-point numbers stored in the machine.\n",
    "Due to limitations in computer memory, programs sometimes encounter issues with roundoff, overflow, or precision of numeric variables.[9]\n",
    "\n",
    "Real numbers are stored in computers have a finite precision, specifically, floating point numbers can give up to 16 places of precision.\n",
    "\n",
    "Representing floating-point numbers on a computer comes with two kinds of limitations:\n",
    "1. The range of the exponent is limited, $Emin ≤ E ≤ Emax$,where $Emin$ is negative and $Emax$\n",
    "is positive; both have large absolute values. Calculations leading to exponents $E > Emax$\n",
    "are said to lead to overflow; calculations leading to exponents $E < Emin$ are said to have\n",
    "underflowed.\n",
    "2. The number of digits of the fraction F that can be represented by on and off switches on a computer is finite. This results in rounding error.[11]\n"
   ]
  },
  {
   "attachments": {
    "image.png": {
     "image/png": "[encoded data removed]"
    }
   },
   "cell_type": "markdown",
   "metadata": {},
   "source": [
    "### Newton’s method\n",
    "One way of computing square roots is Newton’s method. It is a numerical method for root finding, with excellent convergence properties. In order for the Newton–Raphson method to succeed, the initial guess must be a judicious one. In practice, Bracketing and Bisection is used to ‘zoom in’ on a region of interest containing a root and the Newton–Raphson method (or some variant thereof) is used to compute the numerical root with more precision.\n",
    "[11]\n",
    "To find out the square root of n, start with an approximation and compute a better approximation with the following formula:\n",
    "better =  1/2 * (approx + n/approx)\n",
    "![image.png](attachment:image.png)\n",
    "\n",
    "\n",
    "Newton’s algorithm will eventually reach a point where the new approximation is no better than the previous. By repeatedly applying this formula until the better approximation gets close enough to the previous one. "
   ]
  },
  {
   "cell_type": "markdown",
   "metadata": {},
   "source": [
    "### Development"
   ]
  },
  {
   "cell_type": "code",
   "execution_count": 1,
   "metadata": {},
   "outputs": [
    {
     "data": {
      "text/plain": [
       "'1.4142135623746898698271934335934929549694061279296875000000000000000000000000000000000000000000000000'"
      ]
     },
     "execution_count": 1,
     "metadata": {},
     "output_type": "execute_result"
    }
   ],
   "source": [
    "# Adapted from https://hackernoon.com/calculating-the-square-root-of-a-number-using-the-newton-raphson-method-a-how-to-guide-yr4e32zo\n",
    "def sqrt2(x):\n",
    "    r = 2\n",
    "    x = r\n",
    "    precision = 10 ** (-10) \n",
    "    while abs(x - r * r) > precision: \n",
    "        r = (r + x / r) / 2 \n",
    "    return r\n",
    "format(sqrt2(2), ',.100f')"
   ]
  },
  {
   "cell_type": "markdown",
   "metadata": {},
   "source": [
    "#### Review results of square root function\n",
    " - Floating point number has terminated at a point and rounded to the nearest floating point number\n",
    " - Precision is an issue - after the 15th decimal, accuracy of the computer generated result above is called into question.  Nasa has calculated as follows and the results are different [10]:\n",
    " \n",
    " \n",
    "1.41421356237309504880168872420969807856967187537694807317667973799073247846210703885038753432764157273"
   ]
  },
  {
   "cell_type": "code",
   "execution_count": 2,
   "metadata": {},
   "outputs": [
    {
     "name": "stdout",
     "output_type": "stream",
     "text": [
      "1.4142135623730950112395214535219406515130840253974594091997676330853468070546161969414740057641713664\n"
     ]
    }
   ],
   "source": [
    "# One way of getting around the rounding issue is to gross the square so Python is getting a square root of an integer.\n",
    "# This then can be converted to a float by dividing by 10**100.\n",
    "# https://hackernoon.com/calculating-the-square-root-of-a-number-using-the-newton-raphson-method-a-how-to-guide-yr4e32zo\n",
    "def sqrt2(x):\n",
    "    x = 2 * 10 ** 200\n",
    "    r = x\n",
    "    precision = 10 ** (-10) \n",
    "    while abs(x - r * r) > precision: \n",
    "        r = (r + x / r) / 2 \n",
    "    return r\n",
    "result = sqrt2(2 * 10 ** 200)\n",
    "print(f'{round(result // 10**100)}.{result % 10**100:.0f}')"
   ]
  },
  {
   "cell_type": "markdown",
   "metadata": {},
   "source": [
    "#### Review results of manipulating the floating point issue\n",
    "Python calculates to 16 decimal places. Use integers, to get it to work and use 2*10**200 to be left with 101 digits after the square root).[8]  The work around has eliminated the termination issue with floating point number, precision is still an issue After the 15th decimal, precision is again called into question.\n",
    "\n",
    "Precision is the next issue to be dealt with.\n",
    " \n",
    "1.41421356237309504880168872420969807856967187537694807317667973799073247846210703885038753432764157273"
   ]
  },
  {
   "cell_type": "code",
   "execution_count": 3,
   "metadata": {},
   "outputs": [
    {
     "name": "stdout",
     "output_type": "stream",
     "text": [
      "1.4142135623730950488016887242096980785696718753769480731766797379907324784621070388503875343276415727\n"
     ]
    }
   ],
   "source": [
    "# https://stackoverflow.com/questions/64278117/is-there-a-way-to-create-more-decimal-points-on-python-without-importing-a-libra\n",
    "\n",
    "# Gross 2 to (2 * 10 ** 200) to get the square root of an integer\n",
    "\n",
    "x = 2 * 10 ** 200\n",
    "\n",
    "r = x\n",
    "\n",
    "def sqrt2(x, r):\n",
    "    d0 = abs(x - r**2)\n",
    "    dm = abs(x - (r-1)**2)\n",
    "    dp = abs(x - (r+1)**2)\n",
    "    minimised = d0 <= dm and d0 <= dp\n",
    "    below_min = dp < dm\n",
    "    return minimised, below_min\n",
    "\n",
    "while True:\n",
    "    oldr = r\n",
    "    r = (r + x // r) // 2\n",
    "\n",
    "    minimised, below_min = sqrt2(x, r)\n",
    "    if minimised:\n",
    "        break\n",
    "\n",
    "    if r == oldr:\n",
    "        if below_min:\n",
    "            r += 1\n",
    "        else:\n",
    "            r -= 1\n",
    "        minimised, _ = sqrt2(x, r)\n",
    "        if minimised:\n",
    "            break\n",
    "\n",
    "print(f'{r // 10**100}.{r % 10**100:0100d}')"
   ]
  },
  {
   "cell_type": "markdown",
   "metadata": {},
   "source": [
    "### Conclusion\n",
    "It is not possible to calculate the square root of 2 without work arounds.  Floating-point calculations can have rounding errors and must often be rounded in order to fit back into its finite representation. There are limitations to storing integers in a computer. Floating point numbers are even more difficult to represent in computer memory.\n",
    "Real numbers are stored in computers have a finite precision, specifically, floating point numbers can give up to 16 places of precision.Floating point number has terminated at a point and rounded to the nearest floating point number"
   ]
  },
  {
   "cell_type": "markdown",
   "metadata": {},
   "source": [
    "### References\n",
    "[1]  GitHub Inc., “GitHub,”https://github.com/.<br>\n",
    "[2]  GMIT, “Quality Assurance Framework,”https://www.gmit.ie/general/quality-assurance-framework.<br>\n",
    "[3]  I. McLoughlin, “Using git for assessments,”https://github.com/ianmcloughlin/using-git-for-assessments.<br>\n",
    "[4]  https://en.wikipedia.org/wiki/Square_root_of_2<br>\n",
    "[5]  https://en.wikipedia.org/wiki/Rational_number<br>\n",
    "[6]  https://plus.maths.org/content/maths-minute-square-root-2-irrational<br>\n",
    "[7]  https://docs.oracle.com/cd/E19957-01/806-3568/ncg_goldberg.html<br>\n",
    "[8]  https://docs.python.org/3/tutorial/floatingpoint.html<br>\n",
    "[9]  https://www.khanacademy.org/computing/computers-and-internet/xcae6f4a7ff015e7d:digital-information/xcae6f4a7ff015e7d:limitations-of-storing-numbers/a/number-limits-overflow-and-roundoff<br>\n",
    "[10] https://apod.nasa.gov/htmltest/gifcity/sqrt2.1mil<br>\n",
    "[11] https://maths.ucd.ie/~onaraigh/acm20030/acm_20030_Jan2014_v1.pdf<br>"
   ]
  }
 ],
 "metadata": {
  "kernelspec": {
   "display_name": "Python 3",
   "language": "python",
   "name": "python3"
  },
  "language_info": {
   "codemirror_mode": {
    "name": "ipython",
    "version": 3
   },
   "file_extension": ".py",
   "mimetype": "text/x-python",
   "name": "python",
   "nbconvert_exporter": "python",
   "pygments_lexer": "ipython3",
   "version": "3.8.3"
  },
  "toc": {
   "base_numbering": 1,
   "nav_menu": {},
   "number_sections": true,
   "sideBar": true,
   "skip_h1_title": false,
   "title_cell": "Table of Contents",
   "title_sidebar": "Contents",
   "toc_cell": false,
   "toc_position": {},
   "toc_section_display": true,
   "toc_window_display": false
  }
 },
 "nbformat": 4,
 "nbformat_minor": 4
}
