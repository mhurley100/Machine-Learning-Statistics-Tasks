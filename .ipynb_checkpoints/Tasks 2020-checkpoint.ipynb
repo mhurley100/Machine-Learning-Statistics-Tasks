{
 "cells": [
  {
   "cell_type": "markdown",
   "metadata": {},
   "source": [
    "# Machine Learning & Statistics Tasks 2020\n",
    "***\n",
    "    "
   ]
  },
  {
   "cell_type": "markdown",
   "metadata": {},
   "source": [
    "These are my solutions to the Tasks assessment 2020.  The author is Maura Hurley (G00376337@gmit.ie)."
   ]
  },
  {
   "cell_type": "markdown",
   "metadata": {},
   "source": [
    "## Task Calculate a square root"
   ]
  },
  {
   "cell_type": "markdown",
   "metadata": {},
   "source": [
    "## Research"
   ]
  },
  {
   "cell_type": "markdown",
   "metadata": {},
   "source": [
    "The square roots of numbers that are not a perfect square are irrational numbers meaning they cannot be written as the quotient of two integers. The decimal form of an irrational number will neither terminate nor repeat. The irrational numbers together with the rational numbers constitutes the real numbers.\n",
    "\n",
    "A square root of x is a number r such that r^2=x. When written in the form x^(1/2) or especially sqrt(x), the square root of x may also be called the radical or surd. The square root is therefore an nth root with n=2.\n",
    "\n",
    "The square root of 2 is the irrational number sqrt(2) approx 1.41421356  sometimes known as Pythagoras's constant, which has the simple periodic continued fraction [1, 2, 2, 2, 2, 2, ...] \n",
    " https://mathworld.wolfram.com/SquareRoot.html\n",
    " \n",
    " A rational number is a number that can be expressed as the quotient or fraction p/q of two integers, a numerator p and a non-zero denominator q. Since q may be equal to 1, every integer is a rational number.  2 is therefore a rational number (2/1).  For √2 to be rational, it must be expressed in the form a/b, where a and b are whole numbers as √2 = a/b.\n",
    "\n",
    "The $\\sqrt {2}$ is an irrational number that cannot be written as a fraction $a/b$ where $a$ and $b$ are whole numbers.\n",
    "\n",
    "Assume that $\\sqrt {2}$ can be written as a fraction $a/b$ and that $a$ and $b$ have no common factor —\n",
    "\n",
    "$\\frac{a}{b} = \\sqrt {2}.$\n",
    "\n",
    "Squaring both sides gives\n",
    "\n",
    "$\\frac{a^2}{b^2} = 2.$\n",
    "\n",
    "and multiplying by $b^2$ gives\n",
    "\n",
    "$a^2 = 2b^2.$\n",
    "\n",
    "This means that $a^2$ is an even number: it’s a multiple of $2$. Now if $a^2$ is an even number, then so is $a$ (the square of an odd number is odd). This means that $a$ can be written as $2c$ for some other whole number $c$. Therefore,\n",
    "\n",
    " \t\\[ 2b^2 = a^2 = (2c)^2 = 4c^2. \\]\t \t \n",
    "Dividing through by $2$ gives\n",
    "\n",
    " \t\\[ b^2 = 2c^2. \\]\t \t \n",
    "This means that $b^2$ is even, which again means that $b$ is even. But then, both $a$ and $b$ are even, which contradicts the assumption that they contain no common factor: if they are both even, then they have a common factor of $2$. This contradiction implies that our original assumption, that $\\sqrt {2}$ can be written as a fraction $a/b$ must be false. Therefore, $\\sqrt {2}$ is irrational.\n",
    "\n",
    "One of the two unknown numbers is odd as the fraction cannot be reduced into a ratio of smaller numbers (e.g. 2/8 which reduces to 1/4).\n",
    "\n",
    "\n",
    "https://en.wikipedia.org/wiki/Rational_number\n",
    "\n",
    "\n",
    "\n",
    "https://plus.maths.org/content/maths-minute-square-root-2-irrational"
   ]
  },
  {
   "cell_type": "markdown",
   "metadata": {},
   "source": [
    "One way of computing square roots is Newton’s method. To find out the square root of n, start with almost any approximation, you can compute a better approximation with the following formula:\n",
    "\n",
    "better =  1/2 * (approx + n/approx)\n",
    "\n",
    "The following implementation of Newton’s method requires two parameters. The first is the value whose square root will be approximated. The second is the number of times to iterate the calculation yielding a better result.\n",
    "\n",
    "In general, Newton’s algorithm will eventually reach a point where the new approximation is no better than the previous. By repeatedly applying this formula until the better approximation gets close enough to the previous one, we can write a function for computing the square root that uses the number of iterations necessary and no more.\n",
    "\n",
    "This implementation, shown in codelens, uses a while condition to execute until the approximation is no longer changing. Each time through the loop we compute a “better” approximation using the formula described earlier. As long as the “better” is different, we try again. Step through the program and watch the approximations get closer and closer.\n",
    "https://runestone.academy/runestone/books/published/thinkcspy/MoreAboutIteration/NewtonsMethod.html"
   ]
  },
  {
   "cell_type": "markdown",
   "metadata": {},
   "source": [
    "real numbers are stored in computers have a finite precisionSpecifically, floating point\n",
    "numbers can give up to 16 places of precision, while integers can be exact, but have a much mo\n",
    "http://sites.science.oregonstate.edu/~landaur/INSTANCES/WebModules/1_ComputerPrecision/PrecisionFiles/Pdfs/PrecisionI_15Sept.pdf"
   ]
  },
  {
   "cell_type": "markdown",
   "metadata": {},
   "source": [
    "## Analysis"
   ]
  },
  {
   "cell_type": "code",
   "execution_count": 1,
   "metadata": {},
   "outputs": [
    {
     "name": "stdout",
     "output_type": "stream",
     "text": [
      "The square root of 199999999999999993946624442502072331894900655091004725296483501900693696871108151068392676809412503736055024831947764816364271468736556969278770082094479755742047182133579963622363626612334257709776896.000 is 14142135623730950271424125632818586983491648817919875481779003888601306842716543030228210043498528768.000\n"
     ]
    }
   ],
   "source": [
    "# Python Program to calculate the square root\n",
    "\n",
    "# Note: change this value for a different result\n",
    "num = 2 * (10 **200)\n",
    "\n",
    "\n",
    "num_sqrt = num ** 0.5\n",
    "print('The square root of %0.3f is %0.3f'%(num ,num_sqrt))"
   ]
  },
  {
   "cell_type": "code",
   "execution_count": 7,
   "metadata": {},
   "outputs": [
    {
     "name": "stdout",
     "output_type": "stream",
     "text": [
      "The Square Root of 2.0 is approx. 1.5.\n"
     ]
    }
   ],
   "source": [
    "f= 2.00\n",
    "approx= int (1.40)\n",
    "\n",
    "for i in range(approx):\n",
    "# Use the formula (better =  1/2 * (approx + n/approx)) to calculate approximate.\n",
    "  ans = 0.5 * (approx + f/approx)\n",
    "  \n",
    "# Calculate the square root.  To square a number use **.  (**.5) calculates the square root.\n",
    "\n",
    "print(f\"The Square Root of {f} is approx. {ans}.\")\n"
   ]
  },
  {
   "cell_type": "code",
   "execution_count": 2,
   "metadata": {},
   "outputs": [
    {
     "data": {
      "text/plain": [
       "'1.4142135623730951454746218587388284504413604736328125000000000000000000000000000000000000000000000000'"
      ]
     },
     "execution_count": 2,
     "metadata": {},
     "output_type": "execute_result"
    }
   ],
   "source": [
    "x = (2**(0.5))\n",
    "format(x, '.100f')"
   ]
  },
  {
   "cell_type": "code",
   "execution_count": 3,
   "metadata": {},
   "outputs": [
    {
     "name": "stdout",
     "output_type": "stream",
     "text": [
      "200000000000000000000000000000000000000000000000000000000000000000000000000000000000000000000000000000000000000000000000000000000000000000000000000000000000000000000000000000000000000000000000000000000\n"
     ]
    }
   ],
   "source": [
    "## What is square root of 2\n",
    "k = (2*10**200)\n",
    "print(k)"
   ]
  },
  {
   "cell_type": "code",
   "execution_count": 4,
   "metadata": {},
   "outputs": [
    {
     "data": {
      "text/plain": [
       "'14142135623730950271424125632818586983491648817919875481779003888601306842716543030228210043498528768.000000'"
      ]
     },
     "execution_count": 4,
     "metadata": {},
     "output_type": "execute_result"
    }
   ],
   "source": [
    "j = (k**(0.5))\n",
    "format(j, '100f')"
   ]
  },
  {
   "cell_type": "markdown",
   "metadata": {},
   "source": [
    "Python calculates to 16 decimal places.  Use integers, to get it to work and use 2*10**200 to be left with 101 digits after the square root).\n",
    "https://docs.python.org/3.4/tutorial/floatingpoint.html"
   ]
  },
  {
   "cell_type": "markdown",
   "metadata": {},
   "source": [
    "References[1]  GitHub Inc., “GitHub,”https://github.com/.[2]  GMIT, “Quality Assurance Framework,”https://www.gmit.ie/general/quality-assurance-framework.[3]  I. McLoughlin, “Using git for assessments,”https://github.com/ianmcloughlin/using-git-for-assessments."
   ]
  }
 ],
 "metadata": {
  "kernelspec": {
   "display_name": "Python 3",
   "language": "python",
   "name": "python3"
  },
  "language_info": {
   "codemirror_mode": {
    "name": "ipython",
    "version": 3
   },
   "file_extension": ".py",
   "mimetype": "text/x-python",
   "name": "python",
   "nbconvert_exporter": "python",
   "pygments_lexer": "ipython3",
   "version": "3.8.3"
  },
  "toc": {
   "base_numbering": 1,
   "nav_menu": {},
   "number_sections": true,
   "sideBar": true,
   "skip_h1_title": false,
   "title_cell": "Table of Contents",
   "title_sidebar": "Contents",
   "toc_cell": false,
   "toc_position": {},
   "toc_section_display": true,
   "toc_window_display": false
  }
 },
 "nbformat": 4,
 "nbformat_minor": 4
}
