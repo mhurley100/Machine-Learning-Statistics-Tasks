{
 "cells": [
  {
   "cell_type": "markdown",
   "metadata": {},
   "source": [
    "# Machine Learning & Statistics Tasks 2020\n",
    "***\n",
    "    "
   ]
  },
  {
   "cell_type": "markdown",
   "metadata": {},
   "source": [
    "These are my solutions to the Tasks assessment 2020.  The author is Maura Hurley (G00376337@gmit.ie)."
   ]
  },
  {
   "cell_type": "markdown",
   "metadata": {},
   "source": [
    "## Task Calculate a square root"
   ]
  },
  {
   "cell_type": "markdown",
   "metadata": {},
   "source": [
    "## Research"
   ]
  },
  {
   "cell_type": "markdown",
   "metadata": {},
   "source": [
    "### Floating Point Numbers\n",
    "\n",
    "\"Floating-point arithmetic is considered an esoteric subject by many people. This is rather surprising because floating-point is ubiquitous in computer systems\". \n",
    "https://docs.oracle.com/cd/E19957-01/806-3568/ncg_goldberg.html\n",
    "\n",
    "\n",
    "Binary floating point arithmetic calculations involving binary floating point numbers may not yield precise results. \n",
    "Floating-point calculations can have rounding errors and must often be rounded in order to fit back into its finite representation.  There are limitations to storing integers in a computer.  Floating point numbers are even more difficult to represent in computer memory.  \n",
    "https://docs.python.org/3/tutorial/floatingpoint.html\n",
    "#### Rounding errors\n",
    "An infinite sequence cannot be stored in a computer. At some point, the computer has to end the number either by terminating at a point or rounding to the nearest floating point number. \n",
    "Decimal floating-point numbers are approximated by the binary floating-point numbers stored in the machine.\n",
    "Due to limitations in computer memory, programs sometimes encounter issues with roundoff, overflow, or precision of numeric variables.\n",
    "https://www.khanacademy.org/computing/computers-and-internet/xcae6f4a7ff015e7d:digital-information/xcae6f4a7ff015e7d:limitations-of-storing-numbers/a/number-limits-overflow-and-roundoff\n",
    "\n",
    "real numbers are stored in computers have a finite precisionSpecifically, floating point numbers can give up to 16 places of precision, while integers can be exact, but have a much mo http://sites.science.oregonstate.edu/~landaur/INSTANCES/WebModules/1_ComputerPrecision/PrecisionFiles/Pdfs/PrecisionI_15Sept.pdf"
   ]
  },
  {
   "cell_type": "markdown",
   "metadata": {},
   "source": [
    "### Square root of 2"
   ]
  },
  {
   "cell_type": "markdown",
   "metadata": {},
   "source": [
    "In theory 2 is a rational as all integers are rational i.e. can be expressed as the quotient of two integers (2/1).\n",
    "\n",
    "The $\\sqrt {2}$ is an irrational number as it is not a perfect square and cannot be made into an exact fraction.  It cannot be simplified into a smaller radical or cannot be written as a fraction $a/b$ where $a$ and $b$ are whole numbers. The decimal form of an irrational number neither terminates nor repeats. \n",
    " \n",
    "\n",
    "### Proof that $\\sqrt {2}$ is irrational:\n",
    "\n",
    "\n",
    "Write $\\sqrt {2}$ as a fraction $a/b$ with $a$ and $b$ having no common factor:\n",
    "\n",
    "$\\frac{a}{b} = \\sqrt {2}$\n",
    "\n",
    "Squaring both sides gives\n",
    "\n",
    "$\\frac{a^2}{b^2} = 2.$\n",
    "\n",
    "and multiplying by $b^2$ gives\n",
    "\n",
    "$a^2 = 2b^2.$\n",
    "\n",
    "This means that $a^2$ is an even number as is a  multiple of $2$. If $a^2$ is an even number, then so is $a$ (the square of an odd number is odd). This means that $a$ can be written as $2c$ for some other whole number $c$. Therefore,\n",
    "\n",
    " \t\\[ 2b^2 = a^2 = (2c)^2 = 4c^2. \\]\t \t \n",
    "Dividing through by $2$ gives\n",
    "\n",
    " \t\\[ b^2 = 2c^2. \\]\t \t \n",
    "This means that $b^2$ is even, which again means that $b$ is even. But then, both $a$ and $b$ are even, which contradicts the assumption that they contain no common factor: if they are both even, then they have a common factor of $2$. This contradiction implies that our original assumption, that $\\sqrt {2}$ can be written as a fraction $a/b$ must be false. Therefore, $\\sqrt {2}$ is irrational.\n",
    "\n",
    "One of the two unknown numbers is odd as the fraction cannot be reduced into a ratio of smaller numbers.\n",
    "\n",
    "\n",
    "https://en.wikipedia.org/wiki/Rational_number\n",
    "\n",
    "\n",
    "\n",
    "https://plus.maths.org/content/maths-minute-square-root-2-irrational"
   ]
  },
  {
   "cell_type": "markdown",
   "metadata": {},
   "source": [
    "### Newton’s method\n",
    "One way of computing square roots is Newton’s method. To find out the square root of n, start with an approximation and compute a better approximation with the following formula:\n",
    "\n",
    "better =  1/2 * (approx + n/approx)\n",
    "\n",
    "Newton’s algorithm will eventually reach a point where the new approximation is no better than the previous. By repeatedly applying this formula until the better approximation gets close enough to the previous one, we can write a function for computing the square root that uses the number of iterations necessary and no more.\n",
    "https://runestone.academy/runestone/books/published/thinkcspy/MoreAboutIteration/NewtonsMethod.html"
   ]
  },
  {
   "cell_type": "markdown",
   "metadata": {},
   "source": [
    "## Analysis"
   ]
  },
  {
   "cell_type": "code",
   "execution_count": 1,
   "metadata": {},
   "outputs": [
    {
     "data": {
      "text/plain": [
       "'1.4142135623730951454746218587388284504413604736328125000000000000000000000000000000000000000000000000'"
      ]
     },
     "execution_count": 1,
     "metadata": {},
     "output_type": "execute_result"
    }
   ],
   "source": [
    "# Calculate the square root of 2\n",
    "x = (2**(0.5))\n",
    "# Format to 100 decimal places\n",
    "format(x, '.100f')"
   ]
  },
  {
   "cell_type": "markdown",
   "metadata": {},
   "source": [
    "There are a number of issues with this calculation:\n",
    " - Floating point number has terminated due to limitations\n",
    " - Precision is an issue (Nasa has calculated as follows (https://apod.nasa.gov/htmltest/gifcity/sqrt2.1mil):\n",
    " After the 15th decimal python is precision is called into question.\n",
    " \n",
    "1.41421356237309504880168872420969807856967187537694807317667973799073247846210703885038753432764157273"
   ]
  },
  {
   "cell_type": "code",
   "execution_count": 2,
   "metadata": {},
   "outputs": [
    {
     "name": "stdout",
     "output_type": "stream",
     "text": [
      "The square root of 199999999999999993946624442502072331894900655091004725296483501900693696871108151068392676809412503736055024831947764816364271468736556969278770082094479755742047182133579963622363626612334257709776896 is 14142135623730950271424125632818586983491648817919875481779003888601306842716543030228210043498528768\n"
     ]
    }
   ],
   "source": [
    "# One way of getting around the rounding issue is to gross the square so Python is getting a square root of an integer.\n",
    "# This then can be converted to a float.\n",
    "\n",
    "num = 2 * (10 **200)\n",
    "\n",
    "num_sqrt = num ** 0.5\n",
    "format(num_sqrt, '100f')\n",
    "print('The square root of %0.0f is %0.0f'%(num ,num_sqrt))"
   ]
  },
  {
   "cell_type": "code",
   "execution_count": 3,
   "metadata": {},
   "outputs": [
    {
     "name": "stdout",
     "output_type": "stream",
     "text": [
      "1.4142135623730950112395214535219406515130840253974594091997676330853468070546161969414740057641713664.000000\n"
     ]
    }
   ],
   "source": [
    "# One way of getting around the rounding issue is to gross the square so Python is getting a square root of an integer.\n",
    "# This then can be converted to a float.\n",
    "num = 2\n",
    "num1 = num * (10 **200)\n",
    "\n",
    "num_sqrt = num1 ** 0.5\n",
    "print(f'{round(num_sqrt // 10**100.0)}.{num_sqrt % 10**100:100f}')"
   ]
  },
  {
   "cell_type": "code",
   "execution_count": 4,
   "metadata": {},
   "outputs": [
    {
     "name": "stdout",
     "output_type": "stream",
     "text": [
      "The Square Root of 2.0 is approx. 1.5.\n"
     ]
    }
   ],
   "source": [
    "# Attempt Newtons method for help with precision\n",
    "f= 2.00\n",
    "approx= int (1.40)\n",
    "\n",
    "for i in range(approx):\n",
    "# Use the formula (better =  1/2 * (approx + n/approx)) to calculate approximate.\n",
    "  ans = 0.5 * (approx + f/approx)\n",
    "  \n",
    "# Calculate the square root.  To square a number use **.  (**.5) calculates the square root.\n",
    "\n",
    "print(f\"The Square Root of {f} is approx. {ans}.\")\n"
   ]
  },
  {
   "cell_type": "code",
   "execution_count": 5,
   "metadata": {},
   "outputs": [
    {
     "name": "stdout",
     "output_type": "stream",
     "text": [
      "1.9999999925494194\n"
     ]
    }
   ],
   "source": [
    "# Python Program to find n-th real root  \n",
    "# of x \n",
    "  \n",
    "def findNthRoot(x, n): \n",
    "  \n",
    "    # Initialize boundary values \n",
    "    x = float(x) \n",
    "    n = int(n) \n",
    "    if (x >= 0 and x <= 1): \n",
    "        low = x \n",
    "        high = 1\n",
    "    else: \n",
    "        low = 1\n",
    "        high = x \n",
    "         \n",
    "    # used for taking approximations  \n",
    "    # of the answer    \n",
    "    epsilon = 0.00000001\n",
    "  \n",
    "    # Do binary search \n",
    "    guess = (low + high) / 2\n",
    "    while abs(guess ** n - x) >= epsilon: \n",
    "        if guess ** n > x: \n",
    "            high = guess \n",
    "        else: \n",
    "            low = guess \n",
    "        guess = ( low + high ) / 2\n",
    "    print(guess) \n",
    "      \n",
    "  \n",
    "# Driver code     \n",
    "x = 2\n",
    "n = 1\n",
    "findNthRoot(x, n) "
   ]
  },
  {
   "cell_type": "markdown",
   "metadata": {},
   "source": [
    "Python calculates to 16 decimal places.  Use integers, to get it to work and use 2*10**200 to be left with 101 digits after the square root).\n",
    "https://docs.python.org/3.4/tutorial/floatingpoint.html"
   ]
  },
  {
   "cell_type": "markdown",
   "metadata": {},
   "source": [
    "References[1]  GitHub Inc., “GitHub,”https://github.com/.[2]  GMIT, “Quality Assurance Framework,”https://www.gmit.ie/general/quality-assurance-framework.[3]  I. McLoughlin, “Using git for assessments,”https://github.com/ianmcloughlin/using-git-for-assessments."
   ]
  }
 ],
 "metadata": {
  "kernelspec": {
   "display_name": "Python 3",
   "language": "python",
   "name": "python3"
  },
  "language_info": {
   "codemirror_mode": {
    "name": "ipython",
    "version": 3
   },
   "file_extension": ".py",
   "mimetype": "text/x-python",
   "name": "python",
   "nbconvert_exporter": "python",
   "pygments_lexer": "ipython3",
   "version": "3.8.3"
  },
  "toc": {
   "base_numbering": 1,
   "nav_menu": {},
   "number_sections": true,
   "sideBar": true,
   "skip_h1_title": false,
   "title_cell": "Table of Contents",
   "title_sidebar": "Contents",
   "toc_cell": false,
   "toc_position": {},
   "toc_section_display": true,
   "toc_window_display": false
  }
 },
 "nbformat": 4,
 "nbformat_minor": 4
}
