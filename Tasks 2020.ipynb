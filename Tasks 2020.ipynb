{
 "cells": [
  {
   "cell_type": "markdown",
   "metadata": {},
   "source": [
    "# Machine Learning & Statistics Tasks 2020\n",
    "***\n",
    "    "
   ]
  },
  {
   "cell_type": "markdown",
   "metadata": {},
   "source": [
    "These are my solutions to the Tasks assessment 2020.  The author is Maura Hurley (G00376337@gmit.ie)."
   ]
  },
  {
   "cell_type": "markdown",
   "metadata": {},
   "source": [
    "## Task Calculate a square root"
   ]
  },
  {
   "cell_type": "markdown",
   "metadata": {},
   "source": [
    "## Research"
   ]
  },
  {
   "cell_type": "markdown",
   "metadata": {},
   "source": [
    "The $\\sqrt {2}$ is an irrational number that cannot be written as a fraction $a/b$ where $a$ and $b$ are whole numbers.\n",
    "\n",
    "Assume that $\\sqrt {2}$ can be written as a fraction $a/b$ and that $a$ and $b$ have no common factor —\n",
    "\n",
    "$\\frac{a}{b} = \\sqrt {2}.$\n",
    "\n",
    "Squaring both sides gives\n",
    "\n",
    "$\\frac{a^2}{b^2} = 2.$\n",
    "\n",
    "and multiplying by $b^2$ gives\n",
    "\n",
    "$a^2 = 2b^2.$\n",
    "\n",
    "This means that $a^2$ is an even number: it’s a multiple of $2$. Now if $a^2$ is an even number, then so is $a$ (the square of an odd number is odd). This means that $a$ can be written as $2c$ for some other whole number $c$. Therefore,\n",
    "\n",
    " \t\\[ 2b^2 = a^2 = (2c)^2 = 4c^2. \\]\t \t \n",
    "Dividing through by $2$ gives\n",
    "\n",
    " \t\\[ b^2 = 2c^2. \\]\t \t \n",
    "This means that $b^2$ is even, which again means that $b$ is even. But then, both $a$ and $b$ are even, which contradicts the assumption that they contain no common factor: if they are both even, then they have a common factor of $2$. This contradiction implies that our original assumption, that $\\sqrt {2}$ can be written as a fraction $a/b$ must be false. Therefore, $\\sqrt {2}$ is irrational.\n",
    "https://plus.maths.org/content/maths-minute-square-root-2-irrational"
   ]
  },
  {
   "cell_type": "markdown",
   "metadata": {},
   "source": [
    "One way of computing square roots is Newton’s method. Suppose that you want to know the square root of n. If you start with almost any approximation, you can compute a better approximation with the following formula:\n",
    "\n",
    "better =  1/2 * (approx + n/approx)\n",
    "Execute this algorithm a few times using your calculator. \n",
    "The following implementation of Newton’s method requires two parameters. The first is the value whose square root will be approximated. The second is the number of times to iterate the calculation yielding a better result.\n",
    "\n",
    "In general, Newton’s algorithm will eventually reach a point where the new approximation is no better than the previous. At that point, we could simply stop. In other words, by repeatedly applying this formula until the better approximation gets close enough to the previous one, we can write a function for computing the square root that uses the number of iterations necessary and no more.\n",
    "\n",
    "This implementation, shown in codelens, uses a while condition to execute until the approximation is no longer changing. Each time through the loop we compute a “better” approximation using the formula described earlier. As long as the “better” is different, we try again. Step through the program and watch the approximations get closer and closer.\n",
    "https://runestone.academy/runestone/books/published/thinkcspy/MoreAboutIteration/NewtonsMethod.html"
   ]
  },
  {
   "cell_type": "code",
   "execution_count": 6,
   "metadata": {},
   "outputs": [
    {
     "name": "stdout",
     "output_type": "stream",
     "text": [
      "The Square Root of 2.0 is approx. 1.5.\n"
     ]
    }
   ],
   "source": [
    "f= float (2.00)\n",
    "approx= int (1.40)\n",
    "\n",
    "for i in range(approx):\n",
    "# Use the formula (better =  1/2 * (approx + n/approx)) to calculate approximate.\n",
    "  ans = 0.5 * (approx + f/approx)\n",
    "  \n",
    "# Calculate the square root.  To square a number use **.  (**.5) calculates the square root.\n",
    "\n",
    "print(f\"The Square Root of {f} is approx. {ans}.\")\n"
   ]
  },
  {
   "cell_type": "markdown",
   "metadata": {},
   "source": [
    "References[1]  GitHub Inc., “GitHub,”https://github.com/.[2]  GMIT, “Quality Assurance Framework,”https://www.gmit.ie/general/quality-assurance-framework.[3]  I. McLoughlin, “Using git for assessments,”https://github.com/ianmcloughlin/using-git-for-assessments."
   ]
  }
 ],
 "metadata": {
  "kernelspec": {
   "display_name": "Python 3",
   "language": "python",
   "name": "python3"
  },
  "language_info": {
   "codemirror_mode": {
    "name": "ipython",
    "version": 3
   },
   "file_extension": ".py",
   "mimetype": "text/x-python",
   "name": "python",
   "nbconvert_exporter": "python",
   "pygments_lexer": "ipython3",
   "version": "3.8.3"
  },
  "toc": {
   "base_numbering": 1,
   "nav_menu": {},
   "number_sections": true,
   "sideBar": true,
   "skip_h1_title": false,
   "title_cell": "Table of Contents",
   "title_sidebar": "Contents",
   "toc_cell": false,
   "toc_position": {},
   "toc_section_display": true,
   "toc_window_display": false
  }
 },
 "nbformat": 4,
 "nbformat_minor": 4
}
