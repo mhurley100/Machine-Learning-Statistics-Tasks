{
 "cells": [
  {
   "cell_type": "markdown",
   "metadata": {},
   "source": [
    "# Machine Learning & Statistics Tasks 2020\n",
    "***"
   ]
  },
  {
   "cell_type": "markdown",
   "metadata": {},
   "source": [
    "### <b>Name</b>:    Maura Hurley<br> \n",
    "### <b>Lecturer</b>: Ian McLoughlin<br>\n",
    "***"
   ]
  },
  {
   "cell_type": "markdown",
   "metadata": {},
   "source": [
    "## Introduction\n",
    "\n",
    "#### These are my solutions to the Machine Learning & Statistics Tasks 2020. There are 4 tasks:\n",
    "1. Calculate the square root of 2 to 100 decimal places without using libraries\n",
    "2. Chi Square Test\n",
    "3. Standard deviation excel vs numpy\n",
    "4. KNN\n"
   ]
  },
  {
   "cell_type": "markdown",
   "metadata": {},
   "source": [
    "## 1.  Task Calculate the square root of 2"
   ]
  },
  {
   "cell_type": "markdown",
   "metadata": {},
   "source": [
    "#### Task Detail October 5th, 2020: \n",
    "Write a Python function called sqrt2 that calculates and prints to the screen the square root of 2 to 100 decimal places.  Your code should not depend on any module from the standard library or otherwise.  You should research the task first and include references and a description of your algorithm."
   ]
  },
  {
   "attachments": {
    "sqrt2.jpg": {
     "image/jpeg": "[encoded data removed]"
    }
   },
   "cell_type": "markdown",
   "metadata": {},
   "source": [
    "The square root of 2, $\\sqrt {2}$, or one-half power of 2, $2^{1/2}$, is the positive algebraic number that when multiplied by itself, equals the number 2. The square root of 2 is called the principal square root of 2, in order to distinguish it from the negative number with the same property.  Geometrically, the square root of 2 is the length of a diagonal across a square with sides of one unit of length (this follows from the Pythagorean theorem). The square root of 2 is equal to the length of the hypotenuse of an isosceles right triangle with legs of length 1.  It was probably the first number known to be irrational. The fraction \n",
    "$99\n",
    "/\n",
    "70$\n",
    " (≈ 1.4142857) is sometimes used as a good rational approximation with a reasonably small denominator. [4] \n",
    " ![sqrt2.jpg](attachment:sqrt2.jpg)\n"
   ]
  },
  {
   "cell_type": "markdown",
   "metadata": {},
   "source": [
    "### Proof that the $\\sqrt {2}$ is irrational\n",
    "\n",
    "The $\\sqrt {2}$ is an irrational number as it is not a perfect square and cannot be made into an exact fraction.  It cannot be simplified into a smaller radical or cannot be written as a fraction $a/b$ where $a$ and $b$ are whole numbers. The decimal form of an irrational number neither terminates nor repeats. [5]  \n",
    " \n",
    "The proof is by contradiction; in trying to prove that the $\\sqrt {2}$ is a rational number:<br><br>\n",
    "$\\sqrt {2}$ written as a fraction $a/b$ with $a$ and $b$ with no common factor other than 1 is as follows:\n",
    "\n",
    "$\\sqrt {2}$ = $\\frac{a}{b}$\n",
    "\n",
    "Square both sides:\n",
    "\n",
    "2 = $\\frac{a^2}{b^2}$\n",
    "\n",
    "Multiplying both sides by $b^2$ gives\n",
    "\n",
    "$2b^2$ = $a^2$\n",
    "\n",
    "Therefore $a^2$ is an even number as is the product of an integer. If $a^2$ is an even number, then so is $a$ (the square of an odd number is odd and an even number even). This means that $a$ can be written as $2c$ for another whole number $c$ as follows:\n",
    "\n",
    "$2b^2 = a^2= (2c)^2 = 4c^2$\n",
    "    \n",
    "Divide by 2:\n",
    "\n",
    "$b^2 = 2c^2.$\n",
    "\n",
    "As $b^2$ is even, this means that $b$ is even. As both $a$ and $b$ are even, this contradicts the assumption that they contain no common factor: if they are both even, then they have a common factor of $2$. This contradiction implies that our original assumption, that $\\sqrt {2}$ can be written as a fraction $a/b$ must be false. Therefore, $\\sqrt {2}$ is irrational.\n",
    "\n",
    "One of the two unknown numbers is odd as the fraction cannot be reduced into a ratio of smaller numbers.[6] "
   ]
  },
  {
   "cell_type": "markdown",
   "metadata": {},
   "source": [
    "### Floating Point Numbers\n",
    "\n",
    "<b><i>\"Floating-point arithmetic is considered an esoteric subject by many people. This is rather surprising because floating-point is ubiquitous in computer systems\". </i></b>[7] \n",
    "\n",
    "Binary floating point arithmetic calculations involving binary floating point numbers may not yield precise results. \n",
    "Floating-point calculations can have rounding errors and must often be rounded in order to fit back into its finite representation.  There are limitations to storing integers in a computer.  Floating point numbers are even more difficult to represent in computer memory.[8] \n",
    "\n",
    "#### Rounding errors\n",
    "An infinite sequence cannot be stored in a computer. At some point, the computer has to end the number either by terminating at a point or rounding to the nearest floating point number. \n",
    "Decimal floating-point numbers are approximated by the binary floating-point numbers stored in the machine.\n",
    "Due to limitations in computer memory, programs can encounter issues with roundoff, overflow, or precision of numeric variables.[9]\n",
    "\n",
    "Real numbers are stored in computers have a finite precision, specifically, floating point numbers can give up to 16 places of precision.\n",
    "\n",
    "Representing floating-point numbers on a computer comes with two kinds of limitations:\n",
    "1. The range of the exponent is limited, $Emin ≤ E ≤ Emax$,where $Emin$ is negative and $Emax$\n",
    "is positive; both have large absolute values. Calculations leading to exponents $E > Emax$\n",
    "are said to lead to overflow; calculations leading to exponents $E < Emin$ are said to have\n",
    "underflowed.\n",
    "2. The number of digits of the fraction F that can be represented by on and off switches on a computer is finite. This results in rounding error.[11]\n"
   ]
  },
  {
   "attachments": {
    "newton.jpg": {
     "image/jpeg": "[encoded data removed]"
    }
   },
   "cell_type": "markdown",
   "metadata": {},
   "source": [
    "### Newton’s method\n",
    "\n",
    "Iterative Algorithms for Floating-Point Square Root\n",
    "The   most   common   iterative   algorithm   for calculating the value of the square root of a floating-point numbers  are  those  based  on  the  Newton-Raphson  method. Starting  with  an initial guess , a very good approximation ois derived first in a number of iterations. From this, the square root  can  be  calculated.  \n",
    "\n",
    "It is a numerical method for root finding, with excellent convergence properties.\n",
    "[11]\n",
    "To find out the square root of n, start with an approximation and compute a better approximation with the following formula:\n",
    "better =  1/2 * (approx + n/approx)\n",
    "\n",
    "\n",
    "![newton.jpg](attachment:newton.jpg)\n",
    "\n",
    "Newton’s algorithm will eventually reach a point where the new approximation is no better than the previous. By repeatedly applying this formula until the better approximation gets close enough to the previous one. "
   ]
  },
  {
   "cell_type": "markdown",
   "metadata": {},
   "source": [
    "### Implementation"
   ]
  },
  {
   "cell_type": "markdown",
   "metadata": {},
   "source": [
    "Nasa has calculated the square root with precision to a milion decimal places [10].  The result to the first 100 decimal places are as follows:\n",
    "\n",
    "1.41421356237309504880168872420969807856967187537694807317667973799073247846210703885038753432764157273\n",
    "\n",
    "\n",
    "### Approach:\n",
    "\n",
    "- what is default behaviour?\n",
    "- Forces python to output to 100 places\n",
    "- Manipulate the inputs"
   ]
  },
  {
   "cell_type": "code",
   "execution_count": 1,
   "metadata": {},
   "outputs": [
    {
     "data": {
      "text/plain": [
       "Decimal('1.4142135623730950488016887242096980785696718753769480731766797379907324784621070388503875343276415727')"
      ]
     },
     "execution_count": 1,
     "metadata": {},
     "output_type": "execute_result"
    }
   ],
   "source": [
    "# Use decimal library to verify Nasa result\n",
    "\n",
    "from decimal import *\n",
    "getcontext().prec = 101\n",
    "\n",
    "Decimal(2).sqrt()"
   ]
  },
  {
   "cell_type": "markdown",
   "metadata": {},
   "source": [
    "##### Default behaviour\n",
    "The Python default is to calulate the square root of 2 to 16 decimal places. As noted above real numbers are stored in computers have a finite precision, specifically, floating point numbers can give up to 16 places of precision.  Python has behaved as expected - when compared to the Nasa calculation, the 16th digit is different.  Python has rounded the last digit. \n",
    "Nasa:   1.4142135623730950\n",
    "Python: 1.4142135623730951\n",
    "\n",
    "Floating point numbers greater than 12 digits are truncated i.e. any following numbers are not accurate."
   ]
  },
  {
   "cell_type": "code",
   "execution_count": 2,
   "metadata": {},
   "outputs": [
    {
     "data": {
      "text/plain": [
       "1.4142135623730951"
      ]
     },
     "execution_count": 2,
     "metadata": {},
     "output_type": "execute_result"
    }
   ],
   "source": [
    "# Verify default behavious\n",
    "2**(1/2)"
   ]
  },
  {
   "cell_type": "markdown",
   "metadata": {},
   "source": [
    "#### Review results of basic square root calculation:\n",
    "Python has generated the square root to 16 decimal places by defualt.  I will add formatting and see what that will generate."
   ]
  },
  {
   "cell_type": "code",
   "execution_count": 3,
   "metadata": {},
   "outputs": [
    {
     "data": {
      "text/plain": [
       "'1.4142135623730951454746218587388284504413604736328125000000000000000000000000000000000000000000000000'"
      ]
     },
     "execution_count": 3,
     "metadata": {},
     "output_type": "execute_result"
    }
   ],
   "source": [
    "x = 2**(1/2)\n",
    "# Format to 100 decimal places\n",
    "format((x), ',.100f')"
   ]
  },
  {
   "cell_type": "markdown",
   "metadata": {},
   "source": [
    "#### Review results of square root function\n",
    " - Floating point number has terminated at a point and rounded to the nearest floating point number after approx 52 decimal places.\n",
    " - Precision is an issue - after the 15th decimal, accuracy of the computer generated result above is called into question when compared to the Nasa calculation.\n",
    " \n",
    "One way of getting around the issue with floating point numbers is to gross the square and calculate the square root of an integer.  This is done by multiplying 2 by 100 ** 100, calculating its square root then convert to a float by dividing by 10**100. "
   ]
  },
  {
   "cell_type": "code",
   "execution_count": 4,
   "metadata": {},
   "outputs": [
    {
     "name": "stdout",
     "output_type": "stream",
     "text": [
      "200000000000000000000000000000000000000000000000000000000000000000000000000000000000000000000000000000000000000000000000000000000000000000000000000000000000000000000000000000000000000000000000000000000\n"
     ]
    }
   ],
   "source": [
    "j = 2*100**100\n",
    "h = j\n",
    "print(h)"
   ]
  },
  {
   "cell_type": "code",
   "execution_count": 5,
   "metadata": {},
   "outputs": [
    {
     "data": {
      "text/plain": [
       "'1.4142135623730949234300169337075203657150268554687500000000000000000000000000000000000000000000000000'"
      ]
     },
     "execution_count": 5,
     "metadata": {},
     "output_type": "execute_result"
    }
   ],
   "source": [
    "y = 2*100**100\n",
    "z = y**(1/2)\n",
    "result = z /(10**100)\n",
    "format((result), ',.100f')"
   ]
  },
  {
   "cell_type": "markdown",
   "metadata": {},
   "source": [
    "Review results\n",
    "Same issues are observed:\n",
    "Floating point number has again terminated at a point and rounded to the nearest floating point number after approx 52 decimal places.\n",
    "Precision is an issue - after the 15th decimal, accuracy of the computer generated result above is called into question when compared to the Nasa calculation.  \n",
    "\n",
    "The result further needs to be manipulated using an iterative approach such as Newton's method.\n",
    "The trick with square roots is to multiply the number by 100 for every additional digit of accuracy after the decimal point. "
   ]
  },
  {
   "cell_type": "markdown",
   "metadata": {},
   "source": [
    "There is a way to calculate the square root of an integer with precision. Find the integer square root of 2 after multiplying by 10 raised to the 2 x digits. The result needs to be converted to a string and add the decimal point at the correct location."
   ]
  },
  {
   "cell_type": "code",
   "execution_count": 6,
   "metadata": {},
   "outputs": [
    {
     "name": "stdout",
     "output_type": "stream",
     "text": [
      "1.1421356237309504880168872420969807856967187537694807317667973799073247846210703885038753432764157273\n"
     ]
    }
   ],
   "source": [
    "# Adapted from https://stackoverflow.com/questions/5187664/generating-digits-of-square-root-of-2\n",
    "# Square root of a with precision to a certain amount of decimal places\n",
    "def sqrt2(a, prec):\n",
    "# Gross a up\n",
    "    a = a* (10**(2*prec))\n",
    "    prev = 0\n",
    "    next = 1 * (10**prec)\n",
    "# Get better approximation while next and prev are not equal\n",
    "    while prev != next:\n",
    "        prev = next\n",
    "        next = (prev + (a // prev)) >> 1\n",
    "    return next\n",
    "# Square root of 2 to 101 places (includes first digit)\n",
    "sq = sqrt2(2,101)\n",
    "# Format before decimal and then after decimal\n",
    "print(f'{sq // 10**101}.{sq % 10**100:0100d}')"
   ]
  },
  {
   "cell_type": "markdown",
   "metadata": {},
   "source": [
    "### Conclusion\n",
    "It is not possible to calculate the square root of 2 without libraries without precision issues.  Floating-point calculations can have rounding errors and must often be rounded in order to fit back into its finite representation. There are limitations to storing integers in a computer. Floating point numbers are even more difficult to represent in computer memory.\n",
    "Real numbers are stored in computers have a finite precision, specifically, floating point numbers can give up to 16 places of precision.Floating point number has terminated at a point and rounded to the nearest floating point number.\n",
    "\n",
    "The number can be calculated without libraries with precision however manipulation is required - 2 requires grossing up to an integer and iterative calculations completed."
   ]
  },
  {
   "cell_type": "markdown",
   "metadata": {},
   "source": [
    "## 2. The Chi-squared test"
   ]
  },
  {
   "cell_type": "markdown",
   "metadata": {},
   "source": [
    "### Task Detail November 2nd, 2020: \n",
    "The  Chi-squared  test  for  independence  is  a  statistical hypothesis test like a t-test.  It is used to analyse whether two categorical variables are independent.  The Wikipedia article gives an example stating the Chi-squared value based on it is approximately 24.6. Use scipy.stats to verify this value and calculate the associated p value.  You should include a short note with references justifying your analysis in a markdown cell."
   ]
  },
  {
   "cell_type": "markdown",
   "metadata": {},
   "source": [
    "### The Chi Squared Test\n",
    "Pearson’s chi-squared statistical hypothesis is a test for independence between categorical variables.  It is appropriate when working with categorical data.  It establishes if  there a pattern to the observed frequencies or if they are they purely by chance.  Chi square assumes that the data is random, categories are mutually exclusive, the data is in the form of frequency or counts and that observations are independent[13].\n",
    "\n",
    "##### Chi-Square Goodness-of-fit Test:\n",
    "- This tests from a sample of categorical data the fit to a theoretical distribution i.e. how the observed values match the expected values.  \n",
    "\n",
    "#### Chi-square tests of association and independence\n",
    "\n",
    "- Test of association: determine whether one variable is associated with a different variable. \n",
    "- Test of independence: determine whether the observed value of one variable depends on the observed value of a different variable. \n",
    "\n",
    "\\begin{aligned}&\\chi^2_c = \\sum \\frac{(O_i - E_i)^2}{E_i} \\\\&\\textbf{where:}\\\\&c=\\text{Degrees of freedom}\\\\&O=\\text{Observed value(s)}\\\\&E=\\text{Expected value(s)}\\end{aligned}​\n",
    "\n",
    "\n",
    "Chi-square statistic is a measure of divergence between the data distribution and an expected or hypothesized distribution. \n",
    "- If the p-value associated this chi-square statistic is less than the selected alpha, the test rejects the null hypothesis that the two variables are independent.\n",
    "   \n",
    "- Determine whether a statistical model fits the data adequately. If the p-value associated with the chi-square statistic is less than the selected alpha, the test rejects the null hypothesis.\n",
    "\n",
    "For categorical data, report each category's contribution to the chi-square value, which quantifies how much of the total chi-square value is attributable to each category's divergence.  Does the  the divergence in the data comes from certain categories? [12]"
   ]
  },
  {
   "cell_type": "markdown",
   "metadata": {},
   "source": [
    "#### Observed Data\n",
    "- A random sample of 650 residents of a city of 1,000,000 residents is taken with four neighborhoods: A, B, C, and D. \n",
    "- Their occupation is recorded as \"white collar\", \"blue collar\", or \"no collar\". \n",
    "- The null hypothesis is that each person's neighborhood of residence is independent of the person's occupational classification. \n",
    "- The data are tabulated into a contingency table (summary of 2 categorical variables) with the intent of determining whether one variable is dependent on the other variable. The null hypothesis (H0) states that there is no relation between the variables.  Below table generates observed data:"
   ]
  },
  {
   "cell_type": "code",
   "execution_count": 7,
   "metadata": {},
   "outputs": [
    {
     "name": "stdout",
     "output_type": "stream",
     "text": [
      "Contingency Table:\n"
     ]
    },
    {
     "data": {
      "text/html": [
       "<style  type=\"text/css\" >\n",
       "    #T_b4d101a1_3b18_11eb_ad5d_50eb71c3f2d9 th {\n",
       "          text-align: left;\n",
       "    }    #T_b4d101a1_3b18_11eb_ad5d_50eb71c3f2d9row0_col0 {\n",
       "            text-align:  left;\n",
       "        }    #T_b4d101a1_3b18_11eb_ad5d_50eb71c3f2d9row0_col1 {\n",
       "            text-align:  left;\n",
       "        }    #T_b4d101a1_3b18_11eb_ad5d_50eb71c3f2d9row0_col2 {\n",
       "            text-align:  left;\n",
       "        }    #T_b4d101a1_3b18_11eb_ad5d_50eb71c3f2d9row0_col3 {\n",
       "            text-align:  left;\n",
       "        }    #T_b4d101a1_3b18_11eb_ad5d_50eb71c3f2d9row0_col4 {\n",
       "            text-align:  left;\n",
       "        }    #T_b4d101a1_3b18_11eb_ad5d_50eb71c3f2d9row1_col0 {\n",
       "            text-align:  left;\n",
       "        }    #T_b4d101a1_3b18_11eb_ad5d_50eb71c3f2d9row1_col1 {\n",
       "            text-align:  left;\n",
       "        }    #T_b4d101a1_3b18_11eb_ad5d_50eb71c3f2d9row1_col2 {\n",
       "            text-align:  left;\n",
       "        }    #T_b4d101a1_3b18_11eb_ad5d_50eb71c3f2d9row1_col3 {\n",
       "            text-align:  left;\n",
       "        }    #T_b4d101a1_3b18_11eb_ad5d_50eb71c3f2d9row1_col4 {\n",
       "            text-align:  left;\n",
       "        }    #T_b4d101a1_3b18_11eb_ad5d_50eb71c3f2d9row2_col0 {\n",
       "            text-align:  left;\n",
       "        }    #T_b4d101a1_3b18_11eb_ad5d_50eb71c3f2d9row2_col1 {\n",
       "            text-align:  left;\n",
       "        }    #T_b4d101a1_3b18_11eb_ad5d_50eb71c3f2d9row2_col2 {\n",
       "            text-align:  left;\n",
       "        }    #T_b4d101a1_3b18_11eb_ad5d_50eb71c3f2d9row2_col3 {\n",
       "            text-align:  left;\n",
       "        }    #T_b4d101a1_3b18_11eb_ad5d_50eb71c3f2d9row2_col4 {\n",
       "            text-align:  left;\n",
       "        }    #T_b4d101a1_3b18_11eb_ad5d_50eb71c3f2d9row3_col0 {\n",
       "            text-align:  left;\n",
       "        }    #T_b4d101a1_3b18_11eb_ad5d_50eb71c3f2d9row3_col1 {\n",
       "            text-align:  left;\n",
       "        }    #T_b4d101a1_3b18_11eb_ad5d_50eb71c3f2d9row3_col2 {\n",
       "            text-align:  left;\n",
       "        }    #T_b4d101a1_3b18_11eb_ad5d_50eb71c3f2d9row3_col3 {\n",
       "            text-align:  left;\n",
       "        }    #T_b4d101a1_3b18_11eb_ad5d_50eb71c3f2d9row3_col4 {\n",
       "            text-align:  left;\n",
       "        }</style><table id=\"T_b4d101a1_3b18_11eb_ad5d_50eb71c3f2d9\" ><thead>    <tr>        <th class=\"blank level0\" ></th>        <th class=\"col_heading level0 col0\" >A</th>        <th class=\"col_heading level0 col1\" >B</th>        <th class=\"col_heading level0 col2\" >C</th>        <th class=\"col_heading level0 col3\" >D</th>        <th class=\"col_heading level0 col4\" >Total</th>    </tr></thead><tbody>\n",
       "                <tr>\n",
       "                        <th id=\"T_b4d101a1_3b18_11eb_ad5d_50eb71c3f2d9level0_row0\" class=\"row_heading level0 row0\" >White Collar</th>\n",
       "                        <td id=\"T_b4d101a1_3b18_11eb_ad5d_50eb71c3f2d9row0_col0\" class=\"data row0 col0\" >90</td>\n",
       "                        <td id=\"T_b4d101a1_3b18_11eb_ad5d_50eb71c3f2d9row0_col1\" class=\"data row0 col1\" >60</td>\n",
       "                        <td id=\"T_b4d101a1_3b18_11eb_ad5d_50eb71c3f2d9row0_col2\" class=\"data row0 col2\" >104</td>\n",
       "                        <td id=\"T_b4d101a1_3b18_11eb_ad5d_50eb71c3f2d9row0_col3\" class=\"data row0 col3\" >95</td>\n",
       "                        <td id=\"T_b4d101a1_3b18_11eb_ad5d_50eb71c3f2d9row0_col4\" class=\"data row0 col4\" >349</td>\n",
       "            </tr>\n",
       "            <tr>\n",
       "                        <th id=\"T_b4d101a1_3b18_11eb_ad5d_50eb71c3f2d9level0_row1\" class=\"row_heading level0 row1\" >Blue Collar</th>\n",
       "                        <td id=\"T_b4d101a1_3b18_11eb_ad5d_50eb71c3f2d9row1_col0\" class=\"data row1 col0\" >30</td>\n",
       "                        <td id=\"T_b4d101a1_3b18_11eb_ad5d_50eb71c3f2d9row1_col1\" class=\"data row1 col1\" >50</td>\n",
       "                        <td id=\"T_b4d101a1_3b18_11eb_ad5d_50eb71c3f2d9row1_col2\" class=\"data row1 col2\" >51</td>\n",
       "                        <td id=\"T_b4d101a1_3b18_11eb_ad5d_50eb71c3f2d9row1_col3\" class=\"data row1 col3\" >20</td>\n",
       "                        <td id=\"T_b4d101a1_3b18_11eb_ad5d_50eb71c3f2d9row1_col4\" class=\"data row1 col4\" >151</td>\n",
       "            </tr>\n",
       "            <tr>\n",
       "                        <th id=\"T_b4d101a1_3b18_11eb_ad5d_50eb71c3f2d9level0_row2\" class=\"row_heading level0 row2\" >No Collar</th>\n",
       "                        <td id=\"T_b4d101a1_3b18_11eb_ad5d_50eb71c3f2d9row2_col0\" class=\"data row2 col0\" >30</td>\n",
       "                        <td id=\"T_b4d101a1_3b18_11eb_ad5d_50eb71c3f2d9row2_col1\" class=\"data row2 col1\" >40</td>\n",
       "                        <td id=\"T_b4d101a1_3b18_11eb_ad5d_50eb71c3f2d9row2_col2\" class=\"data row2 col2\" >45</td>\n",
       "                        <td id=\"T_b4d101a1_3b18_11eb_ad5d_50eb71c3f2d9row2_col3\" class=\"data row2 col3\" >35</td>\n",
       "                        <td id=\"T_b4d101a1_3b18_11eb_ad5d_50eb71c3f2d9row2_col4\" class=\"data row2 col4\" >150</td>\n",
       "            </tr>\n",
       "            <tr>\n",
       "                        <th id=\"T_b4d101a1_3b18_11eb_ad5d_50eb71c3f2d9level0_row3\" class=\"row_heading level0 row3\" >Total</th>\n",
       "                        <td id=\"T_b4d101a1_3b18_11eb_ad5d_50eb71c3f2d9row3_col0\" class=\"data row3 col0\" >150</td>\n",
       "                        <td id=\"T_b4d101a1_3b18_11eb_ad5d_50eb71c3f2d9row3_col1\" class=\"data row3 col1\" >150</td>\n",
       "                        <td id=\"T_b4d101a1_3b18_11eb_ad5d_50eb71c3f2d9row3_col2\" class=\"data row3 col2\" >200</td>\n",
       "                        <td id=\"T_b4d101a1_3b18_11eb_ad5d_50eb71c3f2d9row3_col3\" class=\"data row3 col3\" >150</td>\n",
       "                        <td id=\"T_b4d101a1_3b18_11eb_ad5d_50eb71c3f2d9row3_col4\" class=\"data row3 col4\" >650</td>\n",
       "            </tr>\n",
       "    </tbody></table>"
      ],
      "text/plain": [
       "<pandas.io.formats.style.Styler at 0x111e20b8fd0>"
      ]
     },
     "execution_count": 7,
     "metadata": {},
     "output_type": "execute_result"
    }
   ],
   "source": [
    "import pandas as pd\n",
    "print(\"Contingency Table:\")\n",
    "# input data\n",
    "data = [90, 60, 104, 95],[30, 50,  51, 20], [30, 40,  45, 35]\n",
    "# create dataframe\n",
    "df = pd.DataFrame(data, columns=[\"A\", \"B\", \"C\", \"D\"], index =[\"White Collar\",\"Blue Collar\", \"No Collar\"])\n",
    "df.loc['Total']= df.sum(numeric_only=True, axis=0)\n",
    "df.loc[:,'Total'] = df.sum(numeric_only=True, axis=1)\n",
    "# Style the dataframe\n",
    "dfStyler = df.style.set_properties(**{'text-align': 'left'})\n",
    "dfStyler.set_table_styles([dict(selector='th', props=[('text-align', 'left')])])"
   ]
  },
  {
   "cell_type": "markdown",
   "metadata": {},
   "source": [
    "#### Expected value is calculated as follows:\n",
    "\n",
    "- Subtract each expected frequency from the related observed frequency.\n",
    "- Square each value obtained above\n",
    "- Divide all the values obtained in step 2 by the related expected frequencies i.e. (O-E)2/E.\n",
    "- Add all the values obtained above to get the chi-square value.\n",
    "- Compare with the critical chi-square value. We can find this in the below chi-square table against the degrees of freedom (number of categories – 1) and the level of significance:\n"
   ]
  },
  {
   "cell_type": "code",
   "execution_count": 8,
   "metadata": {},
   "outputs": [
    {
     "name": "stdout",
     "output_type": "stream",
     "text": [
      "Expected Frequencies:\n"
     ]
    },
    {
     "data": {
      "text/html": [
       "<div>\n",
       "<style scoped>\n",
       "    .dataframe tbody tr th:only-of-type {\n",
       "        vertical-align: middle;\n",
       "    }\n",
       "\n",
       "    .dataframe tbody tr th {\n",
       "        vertical-align: top;\n",
       "    }\n",
       "\n",
       "    .dataframe thead th {\n",
       "        text-align: right;\n",
       "    }\n",
       "</style>\n",
       "<table border=\"1\" class=\"dataframe\">\n",
       "  <thead>\n",
       "    <tr style=\"text-align: right;\">\n",
       "      <th></th>\n",
       "      <th>A</th>\n",
       "      <th>B</th>\n",
       "      <th>C</th>\n",
       "      <th>D</th>\n",
       "      <th>Total</th>\n",
       "    </tr>\n",
       "  </thead>\n",
       "  <tbody>\n",
       "    <tr>\n",
       "      <th>White Collar</th>\n",
       "      <td>80.5385</td>\n",
       "      <td>80.5385</td>\n",
       "      <td>107.3846</td>\n",
       "      <td>80.5385</td>\n",
       "      <td>349.0</td>\n",
       "    </tr>\n",
       "    <tr>\n",
       "      <th>Blue Collar</th>\n",
       "      <td>34.8462</td>\n",
       "      <td>34.8462</td>\n",
       "      <td>46.4615</td>\n",
       "      <td>34.8462</td>\n",
       "      <td>151.0</td>\n",
       "    </tr>\n",
       "    <tr>\n",
       "      <th>No Collar</th>\n",
       "      <td>34.6154</td>\n",
       "      <td>34.6154</td>\n",
       "      <td>46.1538</td>\n",
       "      <td>34.6154</td>\n",
       "      <td>150.0</td>\n",
       "    </tr>\n",
       "    <tr>\n",
       "      <th>Total</th>\n",
       "      <td>150.0000</td>\n",
       "      <td>150.0000</td>\n",
       "      <td>200.0000</td>\n",
       "      <td>150.0000</td>\n",
       "      <td>650.0</td>\n",
       "    </tr>\n",
       "  </tbody>\n",
       "</table>\n",
       "</div>"
      ],
      "text/plain": [
       "                     A         B         C         D  Total\n",
       "White Collar   80.5385   80.5385  107.3846   80.5385  349.0\n",
       "Blue Collar    34.8462   34.8462   46.4615   34.8462  151.0\n",
       "No Collar      34.6154   34.6154   46.1538   34.6154  150.0\n",
       "Total         150.0000  150.0000  200.0000  150.0000  650.0"
      ]
     },
     "execution_count": 8,
     "metadata": {},
     "output_type": "execute_result"
    }
   ],
   "source": [
    "# adapted from https://stackoverflow.com/questions/64669448/understanding-scipy-stats-chisquare\n",
    "\n",
    "from scipy.stats import chi2_contingency\n",
    "\n",
    "table = data\n",
    "chi2, p, dof, expected = chi2_contingency(table)\n",
    "print(\"Expected Frequencies:\")\n",
    "\n",
    "df = pd.DataFrame(expected, columns=[\"A\", \"B\", \"C\", \"D\"], index =[\"White Collar\",\"Blue Collar\", \"No Collar\"])\n",
    "df.loc['Total']= df.sum(numeric_only=True, axis=0)\n",
    "df.loc[:,'Total'] = df.sum(numeric_only=True, axis=1)\n",
    "dfStyler = df.style.set_properties(**{'text-align': 'left'})\n",
    "dfStyler.set_table_styles([dict(selector='th', props=[('text-align', 'left')])])\n",
    "\n",
    "df.round(4)"
   ]
  },
  {
   "cell_type": "markdown",
   "metadata": {},
   "source": [
    "### Verify the hypothesis\n",
    "\n",
    "A hypothesis test is stated in terms of Null and Alternative hypotheses\n",
    "\n",
    "The burden of proof is always on the alternative hypothesis.  For example, in a 2-sample t-test the burden of proof is on proving a difference. There are two ways in which an difference can be claimed:\n",
    "- that a value representative of a sample (mean or standard deviation) has changed significantly\n",
    "- that the value has specifically increased or decreased\n",
    "\n",
    "We can verify the hypothesis by these methods: \n",
    "\n",
    "- Using p-value:\n",
    "P value determines significance or independence.  The p-value  the probability that, under the null hypothesis (H0), the chi square value will be greater than the empirical value of the data.\n",
    "\n",
    "Is there a significant relationship between the variables? Generally a significance factor or alpha value of 0.05 is used. This alpha value denotes the probability of erroneously rejecting the null hypothesis when it is true. A lower alpha value is chosen in cases where we expect more precision. If the p-value for the test comes out to be strictly greater than the alpha value, then null hypothesis holds true.\n",
    "\n",
    "- Using chi-square value:\n",
    "If the calculated value of chi-square is less or equal to the critical value of chi-square, then the null hypothesis holds true. \n",
    "\n",
    "24.571 is the chi square value. There are  6 degrees of freedom calculated as follows:\n",
    "(rows -1 ) * (columns - 1) = (4-1) * (3-1) = 6.\n",
    "\n",
    "Threshold is 0.05 compared with  0.0004098.  We reject the null hypothesis as we have p-value below our threshold."
   ]
  },
  {
   "cell_type": "code",
   "execution_count": 9,
   "metadata": {},
   "outputs": [
    {
     "name": "stdout",
     "output_type": "stream",
     "text": [
      "dof=6\n",
      "probability=0.950, critical=12.592, stat=24.571\n",
      "Dependent (reject H0)\n",
      "significance=0.050, p=0.0004098\n",
      "Dependent (reject H0)\n"
     ]
    }
   ],
   "source": [
    "# adapted from https://machinelearningmastery.com/chi-squared-test-for-machine-learning/\n",
    "# chi-squared test with similar proportions\n",
    "from scipy.stats import chi2_contingency\n",
    "from scipy.stats import chi2\n",
    "# contingency table\n",
    "table =data\n",
    "stat, p, dof, expected = chi2_contingency(table)\n",
    "print('dof=%d' % dof)\n",
    "# print(expected)\n",
    "# interpret test-statistic\n",
    "prob = 0.95\n",
    "critical = chi2.ppf(prob, dof)\n",
    "print('probability=%.3f, critical=%.3f, stat=%.3f' % (prob, critical, stat))\n",
    "if abs(stat) >= critical:\n",
    "\tprint('Dependent (reject H0)')\n",
    "else:\n",
    "\tprint('Independent (fail to reject H0)')\n",
    "# interpret p-value\n",
    "alpha = 1.0 - prob\n",
    "print('significance=%.3f, p=%.7f' % (alpha, p))\n",
    "if p <= alpha:\n",
    "\tprint('Dependent (reject H0)')\n",
    "else:\n",
    "\tprint('Independent (fail to reject H0)')"
   ]
  },
  {
   "cell_type": "markdown",
   "metadata": {},
   "source": [
    "### Conclusion\n",
    "The null hypothesis that each person's neighborhood is independent of occupation is rejected.  The p value of 0.0004098 is lower than the assumed alpha of 0.05. The critical value is calculated as 12.592 with 6 degrees of freedom. This indicates that the null hypothesis should be rejected as the chi squared value of 24.571 is less than the critical value of 12.592."
   ]
  },
  {
   "cell_type": "markdown",
   "metadata": {},
   "source": [
    "## 3. Standard Deviation - Numpy & Excel"
   ]
  },
  {
   "cell_type": "markdown",
   "metadata": {},
   "source": [
    "#### Task Detail November 16th, 2020:  \n",
    "The  standard  deviation  of  an  array  of  numbers x is calculated using numpy as np.sqrt(np.sum((x - np.mean(x))**2)/len(x)).  However,  Microsoft  Excel  has  two  different  versions  of  the  standard  deviation calculation, STDEV.P and STDEV.S.  The STDEV.P function performs the above calculation but in the STDEV.S calculation the division is by len(x)-1 rather than len(x).  Research these Excel functions, writing a note in a Markdown cell about  the  difference  between  them.   Then  use numpy to  perform  a  simulation demonstrating that the STDEV.S calculation is a better estimate for the standard deviation of a population when performed on a sample.  Note that part of this task is to figure out the terminology in the previous sentence."
   ]
  },
  {
   "cell_type": "markdown",
   "metadata": {},
   "source": [
    "### Standard deviation \n",
    "According to Wikipedia [17] the standard deviation is used to evaluate how far data is spread from the mean. The standard deviation for a given data set is calculated as follows:\n",
    "\n",
    "- find the average value of the data set\n",
    "- calculate the difference between each element in the set and the average value\n",
    "- square the result of each difference\n",
    "- average the squared differences\n",
    "- calculate the square root of the average squared difference "
   ]
  },
  {
   "attachments": {
    "stdev.p.jpg": {
     "image/jpeg": "[encoded data removed]"
    }
   },
   "cell_type": "markdown",
   "metadata": {},
   "source": [
    "### STDDEV.P\n",
    "\n",
    "Microsoft Excel's [19] STDEV.P function calculates standard deviation based on the entire population given as arguments. The standard deviation is a measure of how widely values are dispersed from the average value (the mean).\n",
    "\n",
    "The standard deviation of the population is evaluated when there is minimal risk to apply the result on aggregate data. The sum of squared deviation is divided by N (number of arguments).\n",
    "\n",
    "Excel formula is as follows:\n",
    "\n",
    "STDEVP(number1,[number2],...)\n",
    "\n",
    "The STDEVP function syntax has the following arguments:\n",
    "\n",
    "- Number1 is required - it is the first number argument corresponding to a population.\n",
    "- Number2 is optional - arguments 2 to 255 corresponding to a population. You can also use a single array or a reference to an array instead of arguments separated by commas.\n",
    "\n",
    "Assumptions:\n",
    "\n",
    "- STDEV.P assumes that its arguments are the entire population. \n",
    "- For large sample sizes, STDEV.S and STDEV.P return approximately equal values.\n",
    "- The standard deviation is calculated using the \"n\" method.\n",
    "- Arguments can either be numbers or names, arrays, or references that contain numbers.\n",
    "- Logical values, and text representations of numbers that you type directly into the list of arguments are counted.\n",
    "- If an argument is an array or reference, only numbers in that array or reference are counted. Empty cells, logical values, text, or error values in the array or reference are ignored.\n",
    "- Arguments that are error values or text that cannot be translated into numbers cause errors.\n",
    "\n",
    "    STDEV.P uses the following formula:\n",
    "   \n",
    "![stdev.p.jpg](attachment:stdev.p.jpg)\n",
    "\n",
    " where x is the sample mean AVERAGE(number1,number2,…) and n is the sample size."
   ]
  },
  {
   "attachments": {
    "stdev.s.jpg": {
     "image/jpeg": "[encoded data removed]"
    }
   },
   "cell_type": "markdown",
   "metadata": {},
   "source": [
    "### STDEV.S\n",
    "Micosoft Excel's  STDEV.S [20] function is used to calculate the standard deviation of a sample. This is also called unbiased analysis.\n",
    "\n",
    "Estimates standard deviation based on a sample (ignores logical values and text in the sample).\n",
    "\n",
    "The standard deviation is a measure of how widely values are dispersed from the average value (the mean).\n",
    "Syntax\n",
    "\n",
    "STDEV.S(number1,[number2],...)\n",
    "\n",
    "The STDEV.S function syntax has the following arguments:\n",
    "\n",
    "- Number1 (required) - the first number argument corresponding to a sample of a population. You can also use a single array or a reference to an array instead of arguments separated by commas.\n",
    "- Number2 (optional) - number arguments 2 to 254 corresponding to a sample of a population. You can also use a single array or a reference to an array instead of arguments separated by commas.\n",
    "\n",
    "Assumptions\n",
    "\n",
    "- STDEV.S assumes that its arguments are a sample of the population.\n",
    "- The standard deviation is calculated using the \"n-1\" method.\n",
    "- Arguments can either be numbers or names, arrays, or references that contain numbers.\n",
    "- Logical values and text representations of numbers that you type directly into the list of arguments are counted.\n",
    "- If an argument is an array or reference, only numbers in that array or reference are counted. Empty cells, logical values, text, or error values in the array or reference are ignored.\n",
    "\n",
    "STDEV.S uses the following formula:\n",
    "\n",
    "![stdev.s.jpg](attachment:stdev.s.jpg)\n",
    "\n",
    "where x is the sample mean AVERAGE(number1,number2,…) and n is the sample size."
   ]
  },
  {
   "cell_type": "markdown",
   "metadata": {},
   "source": [
    "### Differences\n",
    "\n",
    "<b>STDDEV.P:</b>\n",
    "\n",
    "The STDEV. P function is meant to estimate standard deviation for an entire population.\n",
    "\n",
    "<b>STDDEV.S</b>\n",
    "\n",
    "STDDEV.S is a Statistical function that calculates and returns the standard deviation for a sample of data. The standard deviation is a measure of how widely values are dispersed from the average value (the mean). The STDEV. S calculates standard deviation using the “n-1” method.\n",
    "\n",
    "Differences between STDDEV.P & STDDEV.S\n",
    "\n",
    "\n",
    "Calculating standard deviation of a sample and population\n",
    "Depending on the nature of your data, use one of the following formulas:\n",
    "To calculate standard deviation based on the entire population, use the STDEV.P function\n",
    "To find standard deviation based on a sample that constitutes a part, or subset, of the population, use the STDEV.S function\n",
    "\n",
    "When dealing with statistical data, it is important to distinguish between \"population\" data sets and \"sample\" data sets.\n",
    "Population data sets contains all members of a specified group (the entire list of possible data values). \n",
    "    \n",
    "Sample data set contains a part, or a subset, of a population. The size of a sample is always less than the size of the population from which it is taken. [Utilizes the count n - 1 in formulas.]\n",
    "\n",
    "When calculating the formulas for mean absolute deviation (MAD), variance, and standard deviation, it is important to know if you are working with an entire population (where you have all of the possible data), or if you are working with only a sample (a part) of the data. In addition, if you are using a sample of the data, you need to know if you will be making generalizations about the entire population, based upon this sample. [16]"
   ]
  },
  {
   "cell_type": "markdown",
   "metadata": {},
   "source": [
    "### Use Numpy to demonstrate that STDEV.S is better than STDEV.P when performed on a sample"
   ]
  },
  {
   "cell_type": "code",
   "execution_count": 10,
   "metadata": {},
   "outputs": [
    {
     "data": {
      "image/png": "[encoded data removed]",
      "text/plain": [
       "<Figure size 432x288 with 1 Axes>"
      ]
     },
     "metadata": {
      "needs_background": "light"
     },
     "output_type": "display_data"
    }
   ],
   "source": [
    "import matplotlib.pyplot as plt\n",
    "import seaborn as sns\n",
    "import numpy as np\n",
    "import pandas as pd\n",
    "\n",
    "# numpy.random.uniform(low=0.0, high=1.0, size=10000\n",
    "s = np.random.uniform(0,10,10000)\n",
    "plt.hist(s, bins = 50, density = True) \n",
    "plt.show()"
   ]
  },
  {
   "cell_type": "markdown",
   "metadata": {},
   "source": [
    "Use numpy to  perform  a  simulation demonstrating that theSTDDEV.S calculation is a better estimate for the standard deviation of a population when performed on a sample.  Note that part of this task is to figure out the terminology in the previous sentence"
   ]
  },
  {
   "cell_type": "code",
   "execution_count": 11,
   "metadata": {},
   "outputs": [],
   "source": [
    "results = []\n",
    "pop= 300\n",
    "samplesize = [10, 20, 30, 50, 80, 100, 150, 200, 300]\n",
    "\n",
    "for ss in samplesize:\n",
    "    sample =  np.random.choice(pop, size=ss, replace=False)\n",
    "    results.append([pop, ss, np.sqrt(np.sum((sample - np.mean(sample))**2)/len(sample)), np.sqrt(np.sum((sample - np.mean(sample))**2)/(len(sample)-1))               ])\n",
    "    "
   ]
  },
  {
   "cell_type": "code",
   "execution_count": 12,
   "metadata": {},
   "outputs": [
    {
     "name": "stdout",
     "output_type": "stream",
     "text": [
      "66.18678115756953\n"
     ]
    }
   ],
   "source": [
    "s =  np.random.choice(pop, 10, replace=False)\n",
    "z = np.sqrt(np.sum((s- np.mean(s))**2)/len(s))\n",
    "print(z)"
   ]
  },
  {
   "cell_type": "code",
   "execution_count": 13,
   "metadata": {},
   "outputs": [
    {
     "data": {
      "text/html": [
       "<div>\n",
       "<style scoped>\n",
       "    .dataframe tbody tr th:only-of-type {\n",
       "        vertical-align: middle;\n",
       "    }\n",
       "\n",
       "    .dataframe tbody tr th {\n",
       "        vertical-align: top;\n",
       "    }\n",
       "\n",
       "    .dataframe thead th {\n",
       "        text-align: right;\n",
       "    }\n",
       "</style>\n",
       "<table border=\"1\" class=\"dataframe\">\n",
       "  <thead>\n",
       "    <tr style=\"text-align: right;\">\n",
       "      <th></th>\n",
       "      <th>pop</th>\n",
       "      <th>samplesize</th>\n",
       "      <th>STDEVP</th>\n",
       "      <th>STDEVS</th>\n",
       "    </tr>\n",
       "  </thead>\n",
       "  <tbody>\n",
       "    <tr>\n",
       "      <th>0</th>\n",
       "      <td>300</td>\n",
       "      <td>10</td>\n",
       "      <td>92.555929</td>\n",
       "      <td>97.562516</td>\n",
       "    </tr>\n",
       "    <tr>\n",
       "      <th>1</th>\n",
       "      <td>300</td>\n",
       "      <td>20</td>\n",
       "      <td>88.511016</td>\n",
       "      <td>90.810387</td>\n",
       "    </tr>\n",
       "    <tr>\n",
       "      <th>2</th>\n",
       "      <td>300</td>\n",
       "      <td>30</td>\n",
       "      <td>98.106042</td>\n",
       "      <td>99.783190</td>\n",
       "    </tr>\n",
       "    <tr>\n",
       "      <th>3</th>\n",
       "      <td>300</td>\n",
       "      <td>50</td>\n",
       "      <td>96.008750</td>\n",
       "      <td>96.983483</td>\n",
       "    </tr>\n",
       "    <tr>\n",
       "      <th>4</th>\n",
       "      <td>300</td>\n",
       "      <td>80</td>\n",
       "      <td>87.961920</td>\n",
       "      <td>88.516890</td>\n",
       "    </tr>\n",
       "    <tr>\n",
       "      <th>5</th>\n",
       "      <td>300</td>\n",
       "      <td>100</td>\n",
       "      <td>90.028131</td>\n",
       "      <td>90.481676</td>\n",
       "    </tr>\n",
       "    <tr>\n",
       "      <th>6</th>\n",
       "      <td>300</td>\n",
       "      <td>150</td>\n",
       "      <td>86.792972</td>\n",
       "      <td>87.083736</td>\n",
       "    </tr>\n",
       "    <tr>\n",
       "      <th>7</th>\n",
       "      <td>300</td>\n",
       "      <td>200</td>\n",
       "      <td>86.690483</td>\n",
       "      <td>86.908026</td>\n",
       "    </tr>\n",
       "    <tr>\n",
       "      <th>8</th>\n",
       "      <td>300</td>\n",
       "      <td>300</td>\n",
       "      <td>86.602059</td>\n",
       "      <td>86.746758</td>\n",
       "    </tr>\n",
       "  </tbody>\n",
       "</table>\n",
       "</div>"
      ],
      "text/plain": [
       "   pop  samplesize     STDEVP     STDEVS\n",
       "0  300          10  92.555929  97.562516\n",
       "1  300          20  88.511016  90.810387\n",
       "2  300          30  98.106042  99.783190\n",
       "3  300          50  96.008750  96.983483\n",
       "4  300          80  87.961920  88.516890\n",
       "5  300         100  90.028131  90.481676\n",
       "6  300         150  86.792972  87.083736\n",
       "7  300         200  86.690483  86.908026\n",
       "8  300         300  86.602059  86.746758"
      ]
     },
     "execution_count": 13,
     "metadata": {},
     "output_type": "execute_result"
    }
   ],
   "source": [
    "df = pd.DataFrame(results, columns=[\"pop\",\"samplesize\",\"STDEVP\", \"STDEVS\"])\n",
    "\n",
    "\n",
    "df"
   ]
  },
  {
   "cell_type": "markdown",
   "metadata": {},
   "source": [
    "Samples tend to underestimate variability of a population as values chosen are likely to be centered around the mean and extremes ignored.  Using n-1 provides a less biased estimator of the population's standard deviation. There still is some bias, but less than if you use the population standard deviation formula for a sample."
   ]
  },
  {
   "cell_type": "code",
   "execution_count": null,
   "metadata": {},
   "outputs": [],
   "source": []
  },
  {
   "cell_type": "markdown",
   "metadata": {},
   "source": [
    "Next - simulation demonstrating that the STDEV.S calculation is a better estimate for the standard deviation of a population when performed on a sample"
   ]
  },
  {
   "cell_type": "markdown",
   "metadata": {},
   "source": [
    "### 4. KNN"
   ]
  },
  {
   "cell_type": "markdown",
   "metadata": {},
   "source": [
    "#### Task Detail November 30th, 2020:\n",
    "Use scikit-learn to  apply k-means  clustering  to Fisher’s  famous  Iris  data  set.   You  will  easily  obtain  a  copy  of  the  data  set  on-line.  Explain in a Markdown cell how your code works and how accurate it might be, and then explain how your model could be used to make predictions of species of iris."
   ]
  },
  {
   "cell_type": "markdown",
   "metadata": {},
   "source": [
    "### References\n",
    "[1]  GitHub Inc., “GitHub,”https://github.com/.<br>\n",
    "[2]  GMIT, “Quality Assurance Framework,”https://www.gmit.ie/general/quality-assurance-framework.<br>\n",
    "[3]  I. McLoughlin, “Using git for assessments,”https://github.com/ianmcloughlin/using-git-for-assessments.<br>\n",
    "[4]  https://en.wikipedia.org/wiki/Square_root_of_2<br>\n",
    "[5]  https://en.wikipedia.org/wiki/Rational_number<br>\n",
    "[6]  https://plus.maths.org/content/maths-minute-square-root-2-irrational<br>\n",
    "[7]  https://docs.oracle.com/cd/E19957-01/806-3568/ncg_goldberg.html<br>\n",
    "[8]  https://docs.python.org/3/tutorial/floatingpoint.html<br>\n",
    "[9]  https://www.khanacademy.org/computing/computers-and-internet/xcae6f4a7ff015e7d:digital-information/xcae6f4a7ff015e7d:limitations-of-storing-numbers/a/number-limits-overflow-and-roundoff<br>\n",
    "[10] https://apod.nasa.gov/htmltest/gifcity/sqrt2.1mil<br>\n",
    "[11] https://maths.ucd.ie/~onaraigh/acm20030/acm_20030_Jan2014_v1.pdf<br>\n",
    "[12].https://en.wikipedia.org/w/index.php?title=Chi-squared_test&oldid=983024096<br>\n",
    "[12].https://support.minitab.com/en-us/minitab/18/help-and-how-to/statistics/tables/supporting-topics/chi-square/what-is-the-chi-square-statistic/<br>\n",
    "[13] https://www.analyticsvidhya.com/blog/2019/11/what-is-chi-square-test-how-it-works/<br>\n",
    "[14] https://stackoverflow.com/questions/64669448/understanding-scipy-stats-chisquare<br>\n",
    "[15] https://machinelearningmastery.com/chi-squared-test-for-machine-learning/<br>\n",
    "[16] http://mathbitsnotebook.com/Algebra1/StatisticsData/STPopSample.html<br>\n",
    "[17] https://en.wikipedia.org/wiki/Standard_deviation<br>\n",
    "[18] https://www.exceltip.com/statistical-formulas/how-to-use-excel-stdev-p-function.html<br>\n",
    "[19]https://support.microsoft.com/en-us/office/stdev-p-function-6e917c05-31a0-496f-ade7-4f4e7462f285<br>\n",
    "[20] https://support.microsoft.com/en-us/office/stdev-s-function-7d69cf97-0c1f-4acf-be27-f3e83904cc23<br>\n",
    "[21] https://scikit-learn.org/stable/auto_examples/cluster/plot_cluster_iris.html<br>\n",
    "[22] https://stackoverflow.com/questions/5187664/generating-digits-of-square-root-of-2<br>"
   ]
  },
  {
   "cell_type": "code",
   "execution_count": null,
   "metadata": {},
   "outputs": [],
   "source": []
  }
 ],
 "metadata": {
  "kernelspec": {
   "display_name": "Python 3",
   "language": "python",
   "name": "python3"
  },
  "language_info": {
   "codemirror_mode": {
    "name": "ipython",
    "version": 3
   },
   "file_extension": ".py",
   "mimetype": "text/x-python",
   "name": "python",
   "nbconvert_exporter": "python",
   "pygments_lexer": "ipython3",
   "version": "3.8.3"
  },
  "toc": {
   "base_numbering": 1,
   "nav_menu": {},
   "number_sections": false,
   "sideBar": true,
   "skip_h1_title": false,
   "title_cell": "Table of Contents",
   "title_sidebar": "Contents",
   "toc_cell": false,
   "toc_position": {},
   "toc_section_display": true,
   "toc_window_display": false
  }
 },
 "nbformat": 4,
 "nbformat_minor": 4
}
